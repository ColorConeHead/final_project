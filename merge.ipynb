{
 "cells": [
  {
   "cell_type": "markdown",
   "metadata": {},
   "source": [
    "'''\n",
    "원본데이터 - 로그데이터\n",
    "\n",
    "원본데이터  - 유저 특성 데이터 - 클러스터링 이후에 결과 집단의 특성을 토대로 비즈니스 전략 수립 가능\n",
    "\n",
    "\n",
    "            - 비즈니스 전략 데이터\n",
    "\n",
    "\n",
    "1. 유저 분석을 위한 유저 기준으로 정리된 데이터 - 클러스터링\n",
    "=> 유저특성지표\n",
    "\n",
    "row의 단위 : 유저 1명\n",
    "col의 단위 : 해당 유저에 대한 통계량\n",
    "\n",
    "EDA해서 나온 요소들을 통합하기\n",
    "\n",
    "\t1) R, F, M\n",
    "                - 가중치\n",
    "                   R - 총금액을 고려해서 얼마 이상은 (기간 * 0.8)\n",
    "                   F - 총금액을 고려해서 얼마 이상은 (기간 * 1.2)\n",
    "\t2) 구매횟수대비 쿠폰사용율\n",
    "  \t3) 평균구매주기\n",
    "\n",
    "\n",
    "2. 마케팅, 비즈니스 전략을 위한 데이터\n",
    "=> 경향성 지표\n",
    "\n",
    "\n",
    "\t1) ROAS 지표 = 광고비 대비 매출액(수익)\n",
    "\t   단위기간 중 총 광고비용이 높은 특정 기간\n",
    "      \t   특정 기간 중에 거래량이 많은 집단 특정\n",
    "\t   전략 : 1)결과값을 보고 저희 주관이 들어간 요소\n",
    "\n",
    "\t2) 오프라인 비용으로부터 초래되는 비효율 줄이기\n",
    "                주장 : 오프라인 마케팅이 효과가 미비하다\n",
    "                         효과가 상대적으로 좋은 온라인이 오프라인에 맞춰서 조정되는 것이 비효율이다\n",
    "\t   \n",
    "                오프라인비용 : 일주일단위로 조정 - 비탄력적 요소\n",
    "                온라인비용 : 하루 단위로 조정 - 탄력적 요소\n",
    "\n",
    "\t    온라인, 오프라인 7일 이동평균 상관관계 = 0.74\n",
    "\n",
    "\t   총 마케팅비용과 총매출 간의 관계        = 0.14\n",
    "                온라인비용이동평균과 총매출간의 관계 = 0.2\n",
    "\n",
    "\n",
    "\n",
    "\n",
    "\n",
    "\n",
    "\n",
    "\n",
    "\n",
    "'''"
   ]
  },
  {
   "cell_type": "markdown",
   "metadata": {},
   "source": [
    "'''\n",
    "목표1. 클러스터링 해보기\n",
    "그것을 위한 숙제\n",
    "1. RFM 간소화하기(클러스터링과의 비교군) => 7개 그룹정도?\n",
    "    5 * 5 * 2 = \n",
    "    - 참고 및 평가요소(+ 실루엣 점수)\n",
    "    1) 클러스터링을 통해 나온 그룹을 어떤 그룹으로 정의할지의 참고사항\n",
    "    2) 우리만의 클러스터링이 가지고 있는 요소(ex. 우리가 한 클러스터링의 vip는 ㅇㅇㅇ가 RFM에 비해 높다, 대신 ㅇㅇㅇ는 관대하다)\n",
    "    분류된 고객층 중에서 특정층을 공략하기 => 최종목표\n",
    "2. Monetary별 가중치 해결하기\n",
    "3. EDA를 통한 유저 특성 컬럼 추가하기\n",
    "\n",
    "\n",
    "목표2. ROAS에 요소 추가\n",
    "'''"
   ]
  },
  {
   "cell_type": "code",
   "execution_count": 386,
   "metadata": {},
   "outputs": [],
   "source": [
    "import numpy as np\n",
    "import pandas as pd\n",
    "\n",
    "import datetime as dt\n",
    "import time\n",
    "from tqdm import tqdm\n",
    "\n",
    "import matplotlib.pyplot as plt\n",
    "import seaborn as sns\n",
    "plt.rcParams['font.family'] = 'Malgun Gothic'\n",
    "plt.rcParams['axes.unicode_minus'] = False\n",
    "\n",
    "import re"
   ]
  },
  {
   "cell_type": "code",
   "execution_count": 387,
   "metadata": {},
   "outputs": [],
   "source": [
    "df1 = pd.read_csv('open/Onlinesales_info.csv')\n",
    "df2 = pd.read_csv('open/Customer_info.csv')\n",
    "df3 = pd.read_csv('open/Discount_info.csv')\n",
    "df4 = pd.read_csv('open/Marketing_info.csv')\n",
    "df5 = pd.read_csv('open/Tax_info.csv')"
   ]
  },
  {
   "cell_type": "code",
   "execution_count": 388,
   "metadata": {},
   "outputs": [],
   "source": [
    "df = pd.merge(df1, df2, how='left', on='고객ID')\n",
    "df = pd.merge(df, df5, how='left', on='제품카테고리')\n",
    "\n",
    "df['거래날짜'] = pd.to_datetime(df['거래날짜'])\n",
    "df['월'] = df['거래날짜'].dt.month"
   ]
  },
  {
   "cell_type": "code",
   "execution_count": 389,
   "metadata": {},
   "outputs": [],
   "source": [
    "def month_shift(x):\n",
    "    dict = {1:'Jan',\n",
    "            2:'Feb',\n",
    "            3:'Mar',\n",
    "            4:'Apr',\n",
    "            5:'May',\n",
    "            6:'Jun',\n",
    "            7:'Jul',\n",
    "            8:'Aug',\n",
    "            9:'Sep',\n",
    "            10:'Oct',\n",
    "            11:'Nov',\n",
    "            12:'Dec'}\n",
    "    \n",
    "    return dict[x]"
   ]
  },
  {
   "cell_type": "code",
   "execution_count": 390,
   "metadata": {},
   "outputs": [],
   "source": [
    "df['월'] = df['월'].apply(month_shift)"
   ]
  },
  {
   "cell_type": "code",
   "execution_count": 391,
   "metadata": {},
   "outputs": [],
   "source": [
    "df = pd.merge(df, df3, how='left', on=['월', '제품카테고리'])"
   ]
  },
  {
   "cell_type": "code",
   "execution_count": 392,
   "metadata": {},
   "outputs": [],
   "source": [
    "df4['날짜'] = pd.to_datetime(df4['날짜'])\n",
    "df = pd.merge(df, df4, how='left', left_on='거래날짜', right_on='날짜')\n",
    "\n",
    "df = df.drop('날짜', axis=1)"
   ]
  },
  {
   "cell_type": "code",
   "execution_count": 393,
   "metadata": {},
   "outputs": [
    {
     "data": {
      "text/html": [
       "<div>\n",
       "<style scoped>\n",
       "    .dataframe tbody tr th:only-of-type {\n",
       "        vertical-align: middle;\n",
       "    }\n",
       "\n",
       "    .dataframe tbody tr th {\n",
       "        vertical-align: top;\n",
       "    }\n",
       "\n",
       "    .dataframe thead th {\n",
       "        text-align: right;\n",
       "    }\n",
       "</style>\n",
       "<table border=\"1\" class=\"dataframe\">\n",
       "  <thead>\n",
       "    <tr style=\"text-align: right;\">\n",
       "      <th></th>\n",
       "      <th>고객ID</th>\n",
       "      <th>거래ID</th>\n",
       "      <th>거래날짜</th>\n",
       "      <th>제품ID</th>\n",
       "      <th>제품카테고리</th>\n",
       "      <th>수량</th>\n",
       "      <th>평균금액</th>\n",
       "      <th>배송료</th>\n",
       "      <th>쿠폰상태</th>\n",
       "      <th>성별</th>\n",
       "      <th>고객지역</th>\n",
       "      <th>가입기간</th>\n",
       "      <th>GST</th>\n",
       "      <th>월</th>\n",
       "      <th>쿠폰코드</th>\n",
       "      <th>할인율</th>\n",
       "      <th>오프라인비용</th>\n",
       "      <th>온라인비용</th>\n",
       "    </tr>\n",
       "  </thead>\n",
       "  <tbody>\n",
       "    <tr>\n",
       "      <th>0</th>\n",
       "      <td>USER_1358</td>\n",
       "      <td>Transaction_0000</td>\n",
       "      <td>2019-01-01</td>\n",
       "      <td>Product_0981</td>\n",
       "      <td>Nest-USA</td>\n",
       "      <td>1</td>\n",
       "      <td>153.71</td>\n",
       "      <td>6.5</td>\n",
       "      <td>Used</td>\n",
       "      <td>남</td>\n",
       "      <td>Chicago</td>\n",
       "      <td>12</td>\n",
       "      <td>0.10</td>\n",
       "      <td>Jan</td>\n",
       "      <td>ELEC10</td>\n",
       "      <td>10.0</td>\n",
       "      <td>4500</td>\n",
       "      <td>2424.5</td>\n",
       "    </tr>\n",
       "    <tr>\n",
       "      <th>1</th>\n",
       "      <td>USER_1358</td>\n",
       "      <td>Transaction_0001</td>\n",
       "      <td>2019-01-01</td>\n",
       "      <td>Product_0981</td>\n",
       "      <td>Nest-USA</td>\n",
       "      <td>1</td>\n",
       "      <td>153.71</td>\n",
       "      <td>6.5</td>\n",
       "      <td>Used</td>\n",
       "      <td>남</td>\n",
       "      <td>Chicago</td>\n",
       "      <td>12</td>\n",
       "      <td>0.10</td>\n",
       "      <td>Jan</td>\n",
       "      <td>ELEC10</td>\n",
       "      <td>10.0</td>\n",
       "      <td>4500</td>\n",
       "      <td>2424.5</td>\n",
       "    </tr>\n",
       "    <tr>\n",
       "      <th>2</th>\n",
       "      <td>USER_1358</td>\n",
       "      <td>Transaction_0002</td>\n",
       "      <td>2019-01-01</td>\n",
       "      <td>Product_0904</td>\n",
       "      <td>Office</td>\n",
       "      <td>1</td>\n",
       "      <td>2.05</td>\n",
       "      <td>6.5</td>\n",
       "      <td>Used</td>\n",
       "      <td>남</td>\n",
       "      <td>Chicago</td>\n",
       "      <td>12</td>\n",
       "      <td>0.10</td>\n",
       "      <td>Jan</td>\n",
       "      <td>OFF10</td>\n",
       "      <td>10.0</td>\n",
       "      <td>4500</td>\n",
       "      <td>2424.5</td>\n",
       "    </tr>\n",
       "    <tr>\n",
       "      <th>3</th>\n",
       "      <td>USER_1358</td>\n",
       "      <td>Transaction_0003</td>\n",
       "      <td>2019-01-01</td>\n",
       "      <td>Product_0203</td>\n",
       "      <td>Apparel</td>\n",
       "      <td>5</td>\n",
       "      <td>17.53</td>\n",
       "      <td>6.5</td>\n",
       "      <td>Not Used</td>\n",
       "      <td>남</td>\n",
       "      <td>Chicago</td>\n",
       "      <td>12</td>\n",
       "      <td>0.18</td>\n",
       "      <td>Jan</td>\n",
       "      <td>SALE10</td>\n",
       "      <td>10.0</td>\n",
       "      <td>4500</td>\n",
       "      <td>2424.5</td>\n",
       "    </tr>\n",
       "    <tr>\n",
       "      <th>4</th>\n",
       "      <td>USER_1358</td>\n",
       "      <td>Transaction_0003</td>\n",
       "      <td>2019-01-01</td>\n",
       "      <td>Product_0848</td>\n",
       "      <td>Bags</td>\n",
       "      <td>1</td>\n",
       "      <td>16.50</td>\n",
       "      <td>6.5</td>\n",
       "      <td>Used</td>\n",
       "      <td>남</td>\n",
       "      <td>Chicago</td>\n",
       "      <td>12</td>\n",
       "      <td>0.18</td>\n",
       "      <td>Jan</td>\n",
       "      <td>AIO10</td>\n",
       "      <td>10.0</td>\n",
       "      <td>4500</td>\n",
       "      <td>2424.5</td>\n",
       "    </tr>\n",
       "  </tbody>\n",
       "</table>\n",
       "</div>"
      ],
      "text/plain": [
       "        고객ID              거래ID       거래날짜          제품ID    제품카테고리  수량    평균금액  \\\n",
       "0  USER_1358  Transaction_0000 2019-01-01  Product_0981  Nest-USA   1  153.71   \n",
       "1  USER_1358  Transaction_0001 2019-01-01  Product_0981  Nest-USA   1  153.71   \n",
       "2  USER_1358  Transaction_0002 2019-01-01  Product_0904    Office   1    2.05   \n",
       "3  USER_1358  Transaction_0003 2019-01-01  Product_0203   Apparel   5   17.53   \n",
       "4  USER_1358  Transaction_0003 2019-01-01  Product_0848      Bags   1   16.50   \n",
       "\n",
       "   배송료      쿠폰상태 성별     고객지역  가입기간   GST    월    쿠폰코드   할인율  오프라인비용   온라인비용  \n",
       "0  6.5      Used  남  Chicago    12  0.10  Jan  ELEC10  10.0    4500  2424.5  \n",
       "1  6.5      Used  남  Chicago    12  0.10  Jan  ELEC10  10.0    4500  2424.5  \n",
       "2  6.5      Used  남  Chicago    12  0.10  Jan   OFF10  10.0    4500  2424.5  \n",
       "3  6.5  Not Used  남  Chicago    12  0.18  Jan  SALE10  10.0    4500  2424.5  \n",
       "4  6.5      Used  남  Chicago    12  0.18  Jan   AIO10  10.0    4500  2424.5  "
      ]
     },
     "execution_count": 393,
     "metadata": {},
     "output_type": "execute_result"
    }
   ],
   "source": [
    "df.head()"
   ]
  },
  {
   "cell_type": "code",
   "execution_count": 394,
   "metadata": {},
   "outputs": [],
   "source": [
    "df.to_csv('merge.csv')"
   ]
  },
  {
   "cell_type": "code",
   "execution_count": 395,
   "metadata": {},
   "outputs": [
    {
     "data": {
      "text/html": [
       "<div>\n",
       "<style scoped>\n",
       "    .dataframe tbody tr th:only-of-type {\n",
       "        vertical-align: middle;\n",
       "    }\n",
       "\n",
       "    .dataframe tbody tr th {\n",
       "        vertical-align: top;\n",
       "    }\n",
       "\n",
       "    .dataframe thead th {\n",
       "        text-align: right;\n",
       "    }\n",
       "</style>\n",
       "<table border=\"1\" class=\"dataframe\">\n",
       "  <thead>\n",
       "    <tr style=\"text-align: right;\">\n",
       "      <th></th>\n",
       "      <th>고객ID</th>\n",
       "      <th>거래ID</th>\n",
       "      <th>거래날짜</th>\n",
       "      <th>제품ID</th>\n",
       "      <th>제품카테고리</th>\n",
       "      <th>수량</th>\n",
       "      <th>평균금액</th>\n",
       "      <th>배송료</th>\n",
       "      <th>쿠폰상태</th>\n",
       "      <th>성별</th>\n",
       "      <th>고객지역</th>\n",
       "      <th>가입기간</th>\n",
       "      <th>GST</th>\n",
       "      <th>월</th>\n",
       "      <th>쿠폰코드</th>\n",
       "      <th>할인율</th>\n",
       "      <th>오프라인비용</th>\n",
       "      <th>온라인비용</th>\n",
       "    </tr>\n",
       "  </thead>\n",
       "  <tbody>\n",
       "    <tr>\n",
       "      <th>0</th>\n",
       "      <td>USER_1358</td>\n",
       "      <td>Transaction_0000</td>\n",
       "      <td>2019-01-01</td>\n",
       "      <td>Product_0981</td>\n",
       "      <td>Nest-USA</td>\n",
       "      <td>1</td>\n",
       "      <td>153.71</td>\n",
       "      <td>6.5</td>\n",
       "      <td>Used</td>\n",
       "      <td>남</td>\n",
       "      <td>Chicago</td>\n",
       "      <td>12</td>\n",
       "      <td>0.10</td>\n",
       "      <td>Jan</td>\n",
       "      <td>ELEC10</td>\n",
       "      <td>10.0</td>\n",
       "      <td>4500</td>\n",
       "      <td>2424.5</td>\n",
       "    </tr>\n",
       "    <tr>\n",
       "      <th>1</th>\n",
       "      <td>USER_1358</td>\n",
       "      <td>Transaction_0001</td>\n",
       "      <td>2019-01-01</td>\n",
       "      <td>Product_0981</td>\n",
       "      <td>Nest-USA</td>\n",
       "      <td>1</td>\n",
       "      <td>153.71</td>\n",
       "      <td>6.5</td>\n",
       "      <td>Used</td>\n",
       "      <td>남</td>\n",
       "      <td>Chicago</td>\n",
       "      <td>12</td>\n",
       "      <td>0.10</td>\n",
       "      <td>Jan</td>\n",
       "      <td>ELEC10</td>\n",
       "      <td>10.0</td>\n",
       "      <td>4500</td>\n",
       "      <td>2424.5</td>\n",
       "    </tr>\n",
       "    <tr>\n",
       "      <th>2</th>\n",
       "      <td>USER_1358</td>\n",
       "      <td>Transaction_0002</td>\n",
       "      <td>2019-01-01</td>\n",
       "      <td>Product_0904</td>\n",
       "      <td>Office</td>\n",
       "      <td>1</td>\n",
       "      <td>2.05</td>\n",
       "      <td>6.5</td>\n",
       "      <td>Used</td>\n",
       "      <td>남</td>\n",
       "      <td>Chicago</td>\n",
       "      <td>12</td>\n",
       "      <td>0.10</td>\n",
       "      <td>Jan</td>\n",
       "      <td>OFF10</td>\n",
       "      <td>10.0</td>\n",
       "      <td>4500</td>\n",
       "      <td>2424.5</td>\n",
       "    </tr>\n",
       "    <tr>\n",
       "      <th>3</th>\n",
       "      <td>USER_1358</td>\n",
       "      <td>Transaction_0003</td>\n",
       "      <td>2019-01-01</td>\n",
       "      <td>Product_0203</td>\n",
       "      <td>Apparel</td>\n",
       "      <td>5</td>\n",
       "      <td>17.53</td>\n",
       "      <td>6.5</td>\n",
       "      <td>Not Used</td>\n",
       "      <td>남</td>\n",
       "      <td>Chicago</td>\n",
       "      <td>12</td>\n",
       "      <td>0.18</td>\n",
       "      <td>Jan</td>\n",
       "      <td>SALE10</td>\n",
       "      <td>10.0</td>\n",
       "      <td>4500</td>\n",
       "      <td>2424.5</td>\n",
       "    </tr>\n",
       "    <tr>\n",
       "      <th>4</th>\n",
       "      <td>USER_1358</td>\n",
       "      <td>Transaction_0003</td>\n",
       "      <td>2019-01-01</td>\n",
       "      <td>Product_0848</td>\n",
       "      <td>Bags</td>\n",
       "      <td>1</td>\n",
       "      <td>16.50</td>\n",
       "      <td>6.5</td>\n",
       "      <td>Used</td>\n",
       "      <td>남</td>\n",
       "      <td>Chicago</td>\n",
       "      <td>12</td>\n",
       "      <td>0.18</td>\n",
       "      <td>Jan</td>\n",
       "      <td>AIO10</td>\n",
       "      <td>10.0</td>\n",
       "      <td>4500</td>\n",
       "      <td>2424.5</td>\n",
       "    </tr>\n",
       "  </tbody>\n",
       "</table>\n",
       "</div>"
      ],
      "text/plain": [
       "        고객ID              거래ID       거래날짜          제품ID    제품카테고리  수량    평균금액  \\\n",
       "0  USER_1358  Transaction_0000 2019-01-01  Product_0981  Nest-USA   1  153.71   \n",
       "1  USER_1358  Transaction_0001 2019-01-01  Product_0981  Nest-USA   1  153.71   \n",
       "2  USER_1358  Transaction_0002 2019-01-01  Product_0904    Office   1    2.05   \n",
       "3  USER_1358  Transaction_0003 2019-01-01  Product_0203   Apparel   5   17.53   \n",
       "4  USER_1358  Transaction_0003 2019-01-01  Product_0848      Bags   1   16.50   \n",
       "\n",
       "   배송료      쿠폰상태 성별     고객지역  가입기간   GST    월    쿠폰코드   할인율  오프라인비용   온라인비용  \n",
       "0  6.5      Used  남  Chicago    12  0.10  Jan  ELEC10  10.0    4500  2424.5  \n",
       "1  6.5      Used  남  Chicago    12  0.10  Jan  ELEC10  10.0    4500  2424.5  \n",
       "2  6.5      Used  남  Chicago    12  0.10  Jan   OFF10  10.0    4500  2424.5  \n",
       "3  6.5  Not Used  남  Chicago    12  0.18  Jan  SALE10  10.0    4500  2424.5  \n",
       "4  6.5      Used  남  Chicago    12  0.18  Jan   AIO10  10.0    4500  2424.5  "
      ]
     },
     "execution_count": 395,
     "metadata": {},
     "output_type": "execute_result"
    }
   ],
   "source": [
    "df.head()"
   ]
  },
  {
   "cell_type": "code",
   "execution_count": 396,
   "metadata": {},
   "outputs": [
    {
     "data": {
      "text/html": [
       "<div>\n",
       "<style scoped>\n",
       "    .dataframe tbody tr th:only-of-type {\n",
       "        vertical-align: middle;\n",
       "    }\n",
       "\n",
       "    .dataframe tbody tr th {\n",
       "        vertical-align: top;\n",
       "    }\n",
       "\n",
       "    .dataframe thead th {\n",
       "        text-align: right;\n",
       "    }\n",
       "</style>\n",
       "<table border=\"1\" class=\"dataframe\">\n",
       "  <thead>\n",
       "    <tr style=\"text-align: right;\">\n",
       "      <th></th>\n",
       "      <th>고객지역</th>\n",
       "    </tr>\n",
       "    <tr>\n",
       "      <th>고객ID</th>\n",
       "      <th></th>\n",
       "    </tr>\n",
       "  </thead>\n",
       "  <tbody>\n",
       "    <tr>\n",
       "      <th>USER_0000</th>\n",
       "      <td>New York</td>\n",
       "    </tr>\n",
       "    <tr>\n",
       "      <th>USER_0001</th>\n",
       "      <td>New York</td>\n",
       "    </tr>\n",
       "    <tr>\n",
       "      <th>USER_0002</th>\n",
       "      <td>California</td>\n",
       "    </tr>\n",
       "    <tr>\n",
       "      <th>USER_0003</th>\n",
       "      <td>California</td>\n",
       "    </tr>\n",
       "    <tr>\n",
       "      <th>USER_0004</th>\n",
       "      <td>Chicago</td>\n",
       "    </tr>\n",
       "    <tr>\n",
       "      <th>...</th>\n",
       "      <td>...</td>\n",
       "    </tr>\n",
       "    <tr>\n",
       "      <th>USER_1463</th>\n",
       "      <td>California</td>\n",
       "    </tr>\n",
       "    <tr>\n",
       "      <th>USER_1464</th>\n",
       "      <td>New York</td>\n",
       "    </tr>\n",
       "    <tr>\n",
       "      <th>USER_1465</th>\n",
       "      <td>Chicago</td>\n",
       "    </tr>\n",
       "    <tr>\n",
       "      <th>USER_1466</th>\n",
       "      <td>Chicago</td>\n",
       "    </tr>\n",
       "    <tr>\n",
       "      <th>USER_1467</th>\n",
       "      <td>New Jersey</td>\n",
       "    </tr>\n",
       "  </tbody>\n",
       "</table>\n",
       "<p>1468 rows × 1 columns</p>\n",
       "</div>"
      ],
      "text/plain": [
       "                 고객지역\n",
       "고객ID                 \n",
       "USER_0000    New York\n",
       "USER_0001    New York\n",
       "USER_0002  California\n",
       "USER_0003  California\n",
       "USER_0004     Chicago\n",
       "...               ...\n",
       "USER_1463  California\n",
       "USER_1464    New York\n",
       "USER_1465     Chicago\n",
       "USER_1466     Chicago\n",
       "USER_1467  New Jersey\n",
       "\n",
       "[1468 rows x 1 columns]"
      ]
     },
     "execution_count": 396,
     "metadata": {},
     "output_type": "execute_result"
    }
   ],
   "source": [
    "user_region = pd.DataFrame(df.groupby('고객ID')['고객지역'].apply(lambda x: x.value_counts().idxmax()))\n",
    "user_region"
   ]
  },
  {
   "cell_type": "code",
   "execution_count": 397,
   "metadata": {},
   "outputs": [
    {
     "data": {
      "text/html": [
       "<div>\n",
       "<style scoped>\n",
       "    .dataframe tbody tr th:only-of-type {\n",
       "        vertical-align: middle;\n",
       "    }\n",
       "\n",
       "    .dataframe tbody tr th {\n",
       "        vertical-align: top;\n",
       "    }\n",
       "\n",
       "    .dataframe thead th {\n",
       "        text-align: right;\n",
       "    }\n",
       "</style>\n",
       "<table border=\"1\" class=\"dataframe\">\n",
       "  <thead>\n",
       "    <tr style=\"text-align: right;\">\n",
       "      <th></th>\n",
       "      <th>제품카테고리</th>\n",
       "    </tr>\n",
       "    <tr>\n",
       "      <th>고객ID</th>\n",
       "      <th></th>\n",
       "    </tr>\n",
       "  </thead>\n",
       "  <tbody>\n",
       "    <tr>\n",
       "      <th>USER_0000</th>\n",
       "      <td>Apparel</td>\n",
       "    </tr>\n",
       "    <tr>\n",
       "      <th>USER_0001</th>\n",
       "      <td>Nest-USA</td>\n",
       "    </tr>\n",
       "    <tr>\n",
       "      <th>USER_0002</th>\n",
       "      <td>Office</td>\n",
       "    </tr>\n",
       "    <tr>\n",
       "      <th>USER_0003</th>\n",
       "      <td>Apparel</td>\n",
       "    </tr>\n",
       "    <tr>\n",
       "      <th>USER_0004</th>\n",
       "      <td>Apparel</td>\n",
       "    </tr>\n",
       "    <tr>\n",
       "      <th>...</th>\n",
       "      <td>...</td>\n",
       "    </tr>\n",
       "    <tr>\n",
       "      <th>USER_1463</th>\n",
       "      <td>Apparel</td>\n",
       "    </tr>\n",
       "    <tr>\n",
       "      <th>USER_1464</th>\n",
       "      <td>Apparel</td>\n",
       "    </tr>\n",
       "    <tr>\n",
       "      <th>USER_1465</th>\n",
       "      <td>Apparel</td>\n",
       "    </tr>\n",
       "    <tr>\n",
       "      <th>USER_1466</th>\n",
       "      <td>Nest-USA</td>\n",
       "    </tr>\n",
       "    <tr>\n",
       "      <th>USER_1467</th>\n",
       "      <td>Apparel</td>\n",
       "    </tr>\n",
       "  </tbody>\n",
       "</table>\n",
       "<p>1468 rows × 1 columns</p>\n",
       "</div>"
      ],
      "text/plain": [
       "             제품카테고리\n",
       "고객ID               \n",
       "USER_0000   Apparel\n",
       "USER_0001  Nest-USA\n",
       "USER_0002    Office\n",
       "USER_0003   Apparel\n",
       "USER_0004   Apparel\n",
       "...             ...\n",
       "USER_1463   Apparel\n",
       "USER_1464   Apparel\n",
       "USER_1465   Apparel\n",
       "USER_1466  Nest-USA\n",
       "USER_1467   Apparel\n",
       "\n",
       "[1468 rows x 1 columns]"
      ]
     },
     "execution_count": 397,
     "metadata": {},
     "output_type": "execute_result"
    }
   ],
   "source": [
    "mode_category = pd.DataFrame(df.groupby('고객ID')['제품카테고리'].apply(lambda x: x.value_counts().idxmax()))\n",
    "mode_category"
   ]
  },
  {
   "cell_type": "code",
   "execution_count": 398,
   "metadata": {},
   "outputs": [],
   "source": [
    "df['쿠폰코드'] = df['쿠폰코드'].fillna(np.nan)\n",
    "df['할인율'] = df['할인율'].fillna(0)"
   ]
  },
  {
   "cell_type": "code",
   "execution_count": 399,
   "metadata": {},
   "outputs": [],
   "source": [
    "def true_discount(x):\n",
    "    if x == 'Used':\n",
    "        return 1\n",
    "    else:\n",
    "        return 0"
   ]
  },
  {
   "cell_type": "code",
   "execution_count": 400,
   "metadata": {},
   "outputs": [
    {
     "data": {
      "text/plain": [
       "0        1\n",
       "1        1\n",
       "2        1\n",
       "3        0\n",
       "4        1\n",
       "        ..\n",
       "52919    0\n",
       "52920    1\n",
       "52921    1\n",
       "52922    0\n",
       "52923    0\n",
       "Name: true_discount, Length: 52924, dtype: int64"
      ]
     },
     "execution_count": 400,
     "metadata": {},
     "output_type": "execute_result"
    }
   ],
   "source": [
    "df['true_discount'] = df['쿠폰상태'].apply(true_discount)\n",
    "df['true_discount']"
   ]
  },
  {
   "cell_type": "code",
   "execution_count": 401,
   "metadata": {},
   "outputs": [
    {
     "data": {
      "text/html": [
       "<div>\n",
       "<style scoped>\n",
       "    .dataframe tbody tr th:only-of-type {\n",
       "        vertical-align: middle;\n",
       "    }\n",
       "\n",
       "    .dataframe tbody tr th {\n",
       "        vertical-align: top;\n",
       "    }\n",
       "\n",
       "    .dataframe thead th {\n",
       "        text-align: right;\n",
       "    }\n",
       "</style>\n",
       "<table border=\"1\" class=\"dataframe\">\n",
       "  <thead>\n",
       "    <tr style=\"text-align: right;\">\n",
       "      <th></th>\n",
       "      <th>고객ID</th>\n",
       "      <th>거래ID</th>\n",
       "      <th>거래날짜</th>\n",
       "      <th>제품ID</th>\n",
       "      <th>제품카테고리</th>\n",
       "      <th>수량</th>\n",
       "      <th>평균금액</th>\n",
       "      <th>배송료</th>\n",
       "      <th>쿠폰상태</th>\n",
       "      <th>성별</th>\n",
       "      <th>고객지역</th>\n",
       "      <th>가입기간</th>\n",
       "      <th>GST</th>\n",
       "      <th>월</th>\n",
       "      <th>쿠폰코드</th>\n",
       "      <th>할인율</th>\n",
       "      <th>오프라인비용</th>\n",
       "      <th>온라인비용</th>\n",
       "      <th>true_discount</th>\n",
       "    </tr>\n",
       "  </thead>\n",
       "  <tbody>\n",
       "    <tr>\n",
       "      <th>0</th>\n",
       "      <td>USER_1358</td>\n",
       "      <td>Transaction_0000</td>\n",
       "      <td>2019-01-01</td>\n",
       "      <td>Product_0981</td>\n",
       "      <td>Nest-USA</td>\n",
       "      <td>1</td>\n",
       "      <td>153.71</td>\n",
       "      <td>6.5</td>\n",
       "      <td>Used</td>\n",
       "      <td>남</td>\n",
       "      <td>Chicago</td>\n",
       "      <td>12</td>\n",
       "      <td>0.10</td>\n",
       "      <td>Jan</td>\n",
       "      <td>ELEC10</td>\n",
       "      <td>10.0</td>\n",
       "      <td>4500</td>\n",
       "      <td>2424.5</td>\n",
       "      <td>1</td>\n",
       "    </tr>\n",
       "    <tr>\n",
       "      <th>1</th>\n",
       "      <td>USER_1358</td>\n",
       "      <td>Transaction_0001</td>\n",
       "      <td>2019-01-01</td>\n",
       "      <td>Product_0981</td>\n",
       "      <td>Nest-USA</td>\n",
       "      <td>1</td>\n",
       "      <td>153.71</td>\n",
       "      <td>6.5</td>\n",
       "      <td>Used</td>\n",
       "      <td>남</td>\n",
       "      <td>Chicago</td>\n",
       "      <td>12</td>\n",
       "      <td>0.10</td>\n",
       "      <td>Jan</td>\n",
       "      <td>ELEC10</td>\n",
       "      <td>10.0</td>\n",
       "      <td>4500</td>\n",
       "      <td>2424.5</td>\n",
       "      <td>1</td>\n",
       "    </tr>\n",
       "    <tr>\n",
       "      <th>2</th>\n",
       "      <td>USER_1358</td>\n",
       "      <td>Transaction_0002</td>\n",
       "      <td>2019-01-01</td>\n",
       "      <td>Product_0904</td>\n",
       "      <td>Office</td>\n",
       "      <td>1</td>\n",
       "      <td>2.05</td>\n",
       "      <td>6.5</td>\n",
       "      <td>Used</td>\n",
       "      <td>남</td>\n",
       "      <td>Chicago</td>\n",
       "      <td>12</td>\n",
       "      <td>0.10</td>\n",
       "      <td>Jan</td>\n",
       "      <td>OFF10</td>\n",
       "      <td>10.0</td>\n",
       "      <td>4500</td>\n",
       "      <td>2424.5</td>\n",
       "      <td>1</td>\n",
       "    </tr>\n",
       "    <tr>\n",
       "      <th>3</th>\n",
       "      <td>USER_1358</td>\n",
       "      <td>Transaction_0003</td>\n",
       "      <td>2019-01-01</td>\n",
       "      <td>Product_0203</td>\n",
       "      <td>Apparel</td>\n",
       "      <td>5</td>\n",
       "      <td>17.53</td>\n",
       "      <td>6.5</td>\n",
       "      <td>Not Used</td>\n",
       "      <td>남</td>\n",
       "      <td>Chicago</td>\n",
       "      <td>12</td>\n",
       "      <td>0.18</td>\n",
       "      <td>Jan</td>\n",
       "      <td>SALE10</td>\n",
       "      <td>10.0</td>\n",
       "      <td>4500</td>\n",
       "      <td>2424.5</td>\n",
       "      <td>0</td>\n",
       "    </tr>\n",
       "    <tr>\n",
       "      <th>4</th>\n",
       "      <td>USER_1358</td>\n",
       "      <td>Transaction_0003</td>\n",
       "      <td>2019-01-01</td>\n",
       "      <td>Product_0848</td>\n",
       "      <td>Bags</td>\n",
       "      <td>1</td>\n",
       "      <td>16.50</td>\n",
       "      <td>6.5</td>\n",
       "      <td>Used</td>\n",
       "      <td>남</td>\n",
       "      <td>Chicago</td>\n",
       "      <td>12</td>\n",
       "      <td>0.18</td>\n",
       "      <td>Jan</td>\n",
       "      <td>AIO10</td>\n",
       "      <td>10.0</td>\n",
       "      <td>4500</td>\n",
       "      <td>2424.5</td>\n",
       "      <td>1</td>\n",
       "    </tr>\n",
       "  </tbody>\n",
       "</table>\n",
       "</div>"
      ],
      "text/plain": [
       "        고객ID              거래ID       거래날짜          제품ID    제품카테고리  수량    평균금액  \\\n",
       "0  USER_1358  Transaction_0000 2019-01-01  Product_0981  Nest-USA   1  153.71   \n",
       "1  USER_1358  Transaction_0001 2019-01-01  Product_0981  Nest-USA   1  153.71   \n",
       "2  USER_1358  Transaction_0002 2019-01-01  Product_0904    Office   1    2.05   \n",
       "3  USER_1358  Transaction_0003 2019-01-01  Product_0203   Apparel   5   17.53   \n",
       "4  USER_1358  Transaction_0003 2019-01-01  Product_0848      Bags   1   16.50   \n",
       "\n",
       "   배송료      쿠폰상태 성별     고객지역  가입기간   GST    월    쿠폰코드   할인율  오프라인비용   온라인비용  \\\n",
       "0  6.5      Used  남  Chicago    12  0.10  Jan  ELEC10  10.0    4500  2424.5   \n",
       "1  6.5      Used  남  Chicago    12  0.10  Jan  ELEC10  10.0    4500  2424.5   \n",
       "2  6.5      Used  남  Chicago    12  0.10  Jan   OFF10  10.0    4500  2424.5   \n",
       "3  6.5  Not Used  남  Chicago    12  0.18  Jan  SALE10  10.0    4500  2424.5   \n",
       "4  6.5      Used  남  Chicago    12  0.18  Jan   AIO10  10.0    4500  2424.5   \n",
       "\n",
       "   true_discount  \n",
       "0              1  \n",
       "1              1  \n",
       "2              1  \n",
       "3              0  \n",
       "4              1  "
      ]
     },
     "execution_count": 401,
     "metadata": {},
     "output_type": "execute_result"
    }
   ],
   "source": [
    "df.head()"
   ]
  },
  {
   "cell_type": "code",
   "execution_count": 402,
   "metadata": {},
   "outputs": [],
   "source": [
    "df['총금액'] = (df['평균금액'] * (1 + df['GST']) * ((100 - (df['true_discount'] * df['할인율'])) / 100) * df['수량']) + df['배송료']"
   ]
  },
  {
   "cell_type": "code",
   "execution_count": 403,
   "metadata": {},
   "outputs": [
    {
     "data": {
      "text/plain": [
       "count    52924.000000\n",
       "mean        10.517630\n",
       "std         19.475613\n",
       "min          0.000000\n",
       "25%          6.000000\n",
       "50%          6.000000\n",
       "75%          6.500000\n",
       "max        521.360000\n",
       "Name: 배송료, dtype: float64"
      ]
     },
     "execution_count": 403,
     "metadata": {},
     "output_type": "execute_result"
    }
   ],
   "source": [
    "df['배송료'].describe()"
   ]
  },
  {
   "cell_type": "code",
   "execution_count": 404,
   "metadata": {},
   "outputs": [
    {
     "data": {
      "text/html": [
       "<div>\n",
       "<style scoped>\n",
       "    .dataframe tbody tr th:only-of-type {\n",
       "        vertical-align: middle;\n",
       "    }\n",
       "\n",
       "    .dataframe tbody tr th {\n",
       "        vertical-align: top;\n",
       "    }\n",
       "\n",
       "    .dataframe thead th {\n",
       "        text-align: right;\n",
       "    }\n",
       "</style>\n",
       "<table border=\"1\" class=\"dataframe\">\n",
       "  <thead>\n",
       "    <tr style=\"text-align: right;\">\n",
       "      <th></th>\n",
       "      <th>고객ID</th>\n",
       "      <th>거래ID</th>\n",
       "      <th>거래날짜</th>\n",
       "      <th>제품ID</th>\n",
       "      <th>제품카테고리</th>\n",
       "      <th>수량</th>\n",
       "      <th>평균금액</th>\n",
       "      <th>배송료</th>\n",
       "      <th>쿠폰상태</th>\n",
       "      <th>성별</th>\n",
       "      <th>고객지역</th>\n",
       "      <th>가입기간</th>\n",
       "      <th>GST</th>\n",
       "      <th>월</th>\n",
       "      <th>쿠폰코드</th>\n",
       "      <th>할인율</th>\n",
       "      <th>오프라인비용</th>\n",
       "      <th>온라인비용</th>\n",
       "      <th>true_discount</th>\n",
       "      <th>총금액</th>\n",
       "    </tr>\n",
       "  </thead>\n",
       "  <tbody>\n",
       "    <tr>\n",
       "      <th>0</th>\n",
       "      <td>USER_1358</td>\n",
       "      <td>Transaction_0000</td>\n",
       "      <td>2019-01-01</td>\n",
       "      <td>Product_0981</td>\n",
       "      <td>Nest-USA</td>\n",
       "      <td>1</td>\n",
       "      <td>153.71</td>\n",
       "      <td>6.5</td>\n",
       "      <td>Used</td>\n",
       "      <td>남</td>\n",
       "      <td>Chicago</td>\n",
       "      <td>12</td>\n",
       "      <td>0.10</td>\n",
       "      <td>Jan</td>\n",
       "      <td>ELEC10</td>\n",
       "      <td>10.0</td>\n",
       "      <td>4500</td>\n",
       "      <td>2424.5</td>\n",
       "      <td>1</td>\n",
       "      <td>158.6729</td>\n",
       "    </tr>\n",
       "    <tr>\n",
       "      <th>1</th>\n",
       "      <td>USER_1358</td>\n",
       "      <td>Transaction_0001</td>\n",
       "      <td>2019-01-01</td>\n",
       "      <td>Product_0981</td>\n",
       "      <td>Nest-USA</td>\n",
       "      <td>1</td>\n",
       "      <td>153.71</td>\n",
       "      <td>6.5</td>\n",
       "      <td>Used</td>\n",
       "      <td>남</td>\n",
       "      <td>Chicago</td>\n",
       "      <td>12</td>\n",
       "      <td>0.10</td>\n",
       "      <td>Jan</td>\n",
       "      <td>ELEC10</td>\n",
       "      <td>10.0</td>\n",
       "      <td>4500</td>\n",
       "      <td>2424.5</td>\n",
       "      <td>1</td>\n",
       "      <td>158.6729</td>\n",
       "    </tr>\n",
       "    <tr>\n",
       "      <th>2</th>\n",
       "      <td>USER_1358</td>\n",
       "      <td>Transaction_0002</td>\n",
       "      <td>2019-01-01</td>\n",
       "      <td>Product_0904</td>\n",
       "      <td>Office</td>\n",
       "      <td>1</td>\n",
       "      <td>2.05</td>\n",
       "      <td>6.5</td>\n",
       "      <td>Used</td>\n",
       "      <td>남</td>\n",
       "      <td>Chicago</td>\n",
       "      <td>12</td>\n",
       "      <td>0.10</td>\n",
       "      <td>Jan</td>\n",
       "      <td>OFF10</td>\n",
       "      <td>10.0</td>\n",
       "      <td>4500</td>\n",
       "      <td>2424.5</td>\n",
       "      <td>1</td>\n",
       "      <td>8.5295</td>\n",
       "    </tr>\n",
       "    <tr>\n",
       "      <th>3</th>\n",
       "      <td>USER_1358</td>\n",
       "      <td>Transaction_0003</td>\n",
       "      <td>2019-01-01</td>\n",
       "      <td>Product_0203</td>\n",
       "      <td>Apparel</td>\n",
       "      <td>5</td>\n",
       "      <td>17.53</td>\n",
       "      <td>6.5</td>\n",
       "      <td>Not Used</td>\n",
       "      <td>남</td>\n",
       "      <td>Chicago</td>\n",
       "      <td>12</td>\n",
       "      <td>0.18</td>\n",
       "      <td>Jan</td>\n",
       "      <td>SALE10</td>\n",
       "      <td>10.0</td>\n",
       "      <td>4500</td>\n",
       "      <td>2424.5</td>\n",
       "      <td>0</td>\n",
       "      <td>109.9270</td>\n",
       "    </tr>\n",
       "    <tr>\n",
       "      <th>4</th>\n",
       "      <td>USER_1358</td>\n",
       "      <td>Transaction_0003</td>\n",
       "      <td>2019-01-01</td>\n",
       "      <td>Product_0848</td>\n",
       "      <td>Bags</td>\n",
       "      <td>1</td>\n",
       "      <td>16.50</td>\n",
       "      <td>6.5</td>\n",
       "      <td>Used</td>\n",
       "      <td>남</td>\n",
       "      <td>Chicago</td>\n",
       "      <td>12</td>\n",
       "      <td>0.18</td>\n",
       "      <td>Jan</td>\n",
       "      <td>AIO10</td>\n",
       "      <td>10.0</td>\n",
       "      <td>4500</td>\n",
       "      <td>2424.5</td>\n",
       "      <td>1</td>\n",
       "      <td>24.0230</td>\n",
       "    </tr>\n",
       "  </tbody>\n",
       "</table>\n",
       "</div>"
      ],
      "text/plain": [
       "        고객ID              거래ID       거래날짜          제품ID    제품카테고리  수량    평균금액  \\\n",
       "0  USER_1358  Transaction_0000 2019-01-01  Product_0981  Nest-USA   1  153.71   \n",
       "1  USER_1358  Transaction_0001 2019-01-01  Product_0981  Nest-USA   1  153.71   \n",
       "2  USER_1358  Transaction_0002 2019-01-01  Product_0904    Office   1    2.05   \n",
       "3  USER_1358  Transaction_0003 2019-01-01  Product_0203   Apparel   5   17.53   \n",
       "4  USER_1358  Transaction_0003 2019-01-01  Product_0848      Bags   1   16.50   \n",
       "\n",
       "   배송료      쿠폰상태 성별     고객지역  가입기간   GST    월    쿠폰코드   할인율  오프라인비용   온라인비용  \\\n",
       "0  6.5      Used  남  Chicago    12  0.10  Jan  ELEC10  10.0    4500  2424.5   \n",
       "1  6.5      Used  남  Chicago    12  0.10  Jan  ELEC10  10.0    4500  2424.5   \n",
       "2  6.5      Used  남  Chicago    12  0.10  Jan   OFF10  10.0    4500  2424.5   \n",
       "3  6.5  Not Used  남  Chicago    12  0.18  Jan  SALE10  10.0    4500  2424.5   \n",
       "4  6.5      Used  남  Chicago    12  0.18  Jan   AIO10  10.0    4500  2424.5   \n",
       "\n",
       "   true_discount       총금액  \n",
       "0              1  158.6729  \n",
       "1              1  158.6729  \n",
       "2              1    8.5295  \n",
       "3              0  109.9270  \n",
       "4              1   24.0230  "
      ]
     },
     "execution_count": 404,
     "metadata": {},
     "output_type": "execute_result"
    }
   ],
   "source": [
    "df.head()"
   ]
  },
  {
   "cell_type": "code",
   "execution_count": 405,
   "metadata": {},
   "outputs": [],
   "source": [
    "today_date = dt.datetime(2019,12,31)\n",
    "rfm = pd.DataFrame(df.groupby('고객ID').agg({'거래ID':'nunique',\n",
    "                          '총금액':'sum',\n",
    "                          '거래날짜': lambda x: (today_date - x.max()).days}))\n",
    "\n",
    "rfm = rfm.rename(columns={'거래ID':'Frequency',\n",
    "                          '총금액':'Monetary',\n",
    "                          '거래날짜':'Recency'})\n",
    "rfm = rfm[['Recency', 'Frequency', 'Monetary']]"
   ]
  },
  {
   "cell_type": "code",
   "execution_count": 406,
   "metadata": {},
   "outputs": [
    {
     "name": "stdout",
     "output_type": "stream",
     "text": [
      "<class 'pandas.core.frame.DataFrame'>\n",
      "Index: 1468 entries, USER_0000 to USER_1467\n",
      "Data columns (total 3 columns):\n",
      " #   Column     Non-Null Count  Dtype  \n",
      "---  ------     --------------  -----  \n",
      " 0   Recency    1468 non-null   int64  \n",
      " 1   Frequency  1468 non-null   int64  \n",
      " 2   Monetary   1468 non-null   float64\n",
      "dtypes: float64(1), int64(2)\n",
      "memory usage: 45.9+ KB\n"
     ]
    }
   ],
   "source": [
    "rfm.info()"
   ]
  },
  {
   "cell_type": "code",
   "execution_count": 407,
   "metadata": {},
   "outputs": [],
   "source": [
    "coupon = pd.DataFrame(df.groupby('고객ID')['쿠폰상태'].value_counts() / df.groupby('고객ID')['쿠폰상태'].count())\n",
    "\n",
    "coupon_core = pd.DataFrame(coupon.loc[([i if i != 0 else 0 for i in df['고객ID'].unique()], 'Used'), :].sort_index())\n",
    "\n",
    "\n",
    "rfm = pd.merge(rfm, coupon_core, how='left', on='고객ID').fillna(0)\n",
    "rfm = rfm.rename(columns={'쿠폰상태':'쿠폰사용률'})"
   ]
  },
  {
   "cell_type": "code",
   "execution_count": 408,
   "metadata": {},
   "outputs": [],
   "source": [
    "rfm['ratio'] = rfm['쿠폰사용률'] / rfm['Frequency']\n",
    "rfm = rfm.drop('쿠폰사용률', axis=1)"
   ]
  },
  {
   "cell_type": "code",
   "execution_count": 409,
   "metadata": {},
   "outputs": [],
   "source": [
    "last_date = dt.datetime(2019, 12, 31)\n",
    "\n",
    "date = df.sort_values(['고객ID', '거래날짜'])[['고객ID', '거래날짜']].drop_duplicates()\n",
    "date['구매주기'] = date.groupby('고객ID')['거래날짜'].diff().fillna(last_date-date['거래날짜'])\n",
    "\n",
    "avg_buying = pd.DataFrame(date.groupby('고객ID')['구매주기'].mean()).reset_index()\n",
    "\n",
    "\n",
    "rfm = pd.merge(rfm, avg_buying, how='left', on='고객ID').rename(columns={'구매주기':'평균구매주기'})\n",
    "\n",
    "rfm['평균구매주기'] = rfm['평균구매주기'].dt.days"
   ]
  },
  {
   "cell_type": "code",
   "execution_count": 410,
   "metadata": {},
   "outputs": [],
   "source": [
    "# 클러스터링에 사용할 유저 특성 테이블\n",
    "rfm = pd.merge(rfm, mode_category, how='left', on='고객ID')"
   ]
  },
  {
   "cell_type": "code",
   "execution_count": 411,
   "metadata": {},
   "outputs": [
    {
     "data": {
      "text/html": [
       "<div>\n",
       "<style scoped>\n",
       "    .dataframe tbody tr th:only-of-type {\n",
       "        vertical-align: middle;\n",
       "    }\n",
       "\n",
       "    .dataframe tbody tr th {\n",
       "        vertical-align: top;\n",
       "    }\n",
       "\n",
       "    .dataframe thead th {\n",
       "        text-align: right;\n",
       "    }\n",
       "</style>\n",
       "<table border=\"1\" class=\"dataframe\">\n",
       "  <thead>\n",
       "    <tr style=\"text-align: right;\">\n",
       "      <th></th>\n",
       "      <th>고객ID</th>\n",
       "      <th>Recency</th>\n",
       "      <th>Frequency</th>\n",
       "      <th>Monetary</th>\n",
       "      <th>ratio</th>\n",
       "      <th>평균구매주기</th>\n",
       "      <th>최다구매카테고리</th>\n",
       "    </tr>\n",
       "  </thead>\n",
       "  <tbody>\n",
       "    <tr>\n",
       "      <th>0</th>\n",
       "      <td>USER_0000</td>\n",
       "      <td>107</td>\n",
       "      <td>1</td>\n",
       "      <td>174.98174</td>\n",
       "      <td>1.000000</td>\n",
       "      <td>107</td>\n",
       "      <td>Apparel</td>\n",
       "    </tr>\n",
       "    <tr>\n",
       "      <th>1</th>\n",
       "      <td>USER_0001</td>\n",
       "      <td>59</td>\n",
       "      <td>31</td>\n",
       "      <td>15686.84396</td>\n",
       "      <td>0.010753</td>\n",
       "      <td>168</td>\n",
       "      <td>Nest-USA</td>\n",
       "    </tr>\n",
       "    <tr>\n",
       "      <th>2</th>\n",
       "      <td>USER_0002</td>\n",
       "      <td>73</td>\n",
       "      <td>8</td>\n",
       "      <td>1689.55594</td>\n",
       "      <td>0.059783</td>\n",
       "      <td>155</td>\n",
       "      <td>Office</td>\n",
       "    </tr>\n",
       "    <tr>\n",
       "      <th>3</th>\n",
       "      <td>USER_0003</td>\n",
       "      <td>17</td>\n",
       "      <td>11</td>\n",
       "      <td>1467.43528</td>\n",
       "      <td>0.032086</td>\n",
       "      <td>17</td>\n",
       "      <td>Apparel</td>\n",
       "    </tr>\n",
       "    <tr>\n",
       "      <th>4</th>\n",
       "      <td>USER_0004</td>\n",
       "      <td>107</td>\n",
       "      <td>13</td>\n",
       "      <td>2007.42900</td>\n",
       "      <td>0.023504</td>\n",
       "      <td>107</td>\n",
       "      <td>Apparel</td>\n",
       "    </tr>\n",
       "    <tr>\n",
       "      <th>...</th>\n",
       "      <td>...</td>\n",
       "      <td>...</td>\n",
       "      <td>...</td>\n",
       "      <td>...</td>\n",
       "      <td>...</td>\n",
       "      <td>...</td>\n",
       "      <td>...</td>\n",
       "    </tr>\n",
       "    <tr>\n",
       "      <th>1463</th>\n",
       "      <td>USER_1463</td>\n",
       "      <td>270</td>\n",
       "      <td>3</td>\n",
       "      <td>860.68600</td>\n",
       "      <td>0.142857</td>\n",
       "      <td>270</td>\n",
       "      <td>Apparel</td>\n",
       "    </tr>\n",
       "    <tr>\n",
       "      <th>1464</th>\n",
       "      <td>USER_1464</td>\n",
       "      <td>87</td>\n",
       "      <td>19</td>\n",
       "      <td>3016.54372</td>\n",
       "      <td>0.021053</td>\n",
       "      <td>99</td>\n",
       "      <td>Apparel</td>\n",
       "    </tr>\n",
       "    <tr>\n",
       "      <th>1465</th>\n",
       "      <td>USER_1465</td>\n",
       "      <td>194</td>\n",
       "      <td>2</td>\n",
       "      <td>166.90750</td>\n",
       "      <td>0.187500</td>\n",
       "      <td>173</td>\n",
       "      <td>Apparel</td>\n",
       "    </tr>\n",
       "    <tr>\n",
       "      <th>1466</th>\n",
       "      <td>USER_1466</td>\n",
       "      <td>69</td>\n",
       "      <td>1</td>\n",
       "      <td>333.80000</td>\n",
       "      <td>0.000000</td>\n",
       "      <td>69</td>\n",
       "      <td>Nest-USA</td>\n",
       "    </tr>\n",
       "    <tr>\n",
       "      <th>1467</th>\n",
       "      <td>USER_1467</td>\n",
       "      <td>82</td>\n",
       "      <td>53</td>\n",
       "      <td>7356.85141</td>\n",
       "      <td>0.007029</td>\n",
       "      <td>114</td>\n",
       "      <td>Apparel</td>\n",
       "    </tr>\n",
       "  </tbody>\n",
       "</table>\n",
       "<p>1468 rows × 7 columns</p>\n",
       "</div>"
      ],
      "text/plain": [
       "           고객ID  Recency  Frequency     Monetary     ratio  평균구매주기  최다구매카테고리\n",
       "0     USER_0000      107          1    174.98174  1.000000     107   Apparel\n",
       "1     USER_0001       59         31  15686.84396  0.010753     168  Nest-USA\n",
       "2     USER_0002       73          8   1689.55594  0.059783     155    Office\n",
       "3     USER_0003       17         11   1467.43528  0.032086      17   Apparel\n",
       "4     USER_0004      107         13   2007.42900  0.023504     107   Apparel\n",
       "...         ...      ...        ...          ...       ...     ...       ...\n",
       "1463  USER_1463      270          3    860.68600  0.142857     270   Apparel\n",
       "1464  USER_1464       87         19   3016.54372  0.021053      99   Apparel\n",
       "1465  USER_1465      194          2    166.90750  0.187500     173   Apparel\n",
       "1466  USER_1466       69          1    333.80000  0.000000      69  Nest-USA\n",
       "1467  USER_1467       82         53   7356.85141  0.007029     114   Apparel\n",
       "\n",
       "[1468 rows x 7 columns]"
      ]
     },
     "execution_count": 411,
     "metadata": {},
     "output_type": "execute_result"
    }
   ],
   "source": [
    "rfm = rfm.rename(columns={'제품카테고리':'최다구매카테고리'})\n",
    "rfm"
   ]
  },
  {
   "cell_type": "code",
   "execution_count": 412,
   "metadata": {},
   "outputs": [
    {
     "data": {
      "text/html": [
       "<div>\n",
       "<style scoped>\n",
       "    .dataframe tbody tr th:only-of-type {\n",
       "        vertical-align: middle;\n",
       "    }\n",
       "\n",
       "    .dataframe tbody tr th {\n",
       "        vertical-align: top;\n",
       "    }\n",
       "\n",
       "    .dataframe thead th {\n",
       "        text-align: right;\n",
       "    }\n",
       "</style>\n",
       "<table border=\"1\" class=\"dataframe\">\n",
       "  <thead>\n",
       "    <tr style=\"text-align: right;\">\n",
       "      <th></th>\n",
       "      <th>고객ID</th>\n",
       "      <th>Recency</th>\n",
       "      <th>Frequency</th>\n",
       "      <th>Monetary</th>\n",
       "      <th>ratio</th>\n",
       "      <th>평균구매주기</th>\n",
       "      <th>최다구매카테고리</th>\n",
       "      <th>고객지역</th>\n",
       "    </tr>\n",
       "  </thead>\n",
       "  <tbody>\n",
       "    <tr>\n",
       "      <th>0</th>\n",
       "      <td>USER_0000</td>\n",
       "      <td>107</td>\n",
       "      <td>1</td>\n",
       "      <td>174.98174</td>\n",
       "      <td>1.000000</td>\n",
       "      <td>107</td>\n",
       "      <td>Apparel</td>\n",
       "      <td>New York</td>\n",
       "    </tr>\n",
       "    <tr>\n",
       "      <th>1</th>\n",
       "      <td>USER_0001</td>\n",
       "      <td>59</td>\n",
       "      <td>31</td>\n",
       "      <td>15686.84396</td>\n",
       "      <td>0.010753</td>\n",
       "      <td>168</td>\n",
       "      <td>Nest-USA</td>\n",
       "      <td>New York</td>\n",
       "    </tr>\n",
       "    <tr>\n",
       "      <th>2</th>\n",
       "      <td>USER_0002</td>\n",
       "      <td>73</td>\n",
       "      <td>8</td>\n",
       "      <td>1689.55594</td>\n",
       "      <td>0.059783</td>\n",
       "      <td>155</td>\n",
       "      <td>Office</td>\n",
       "      <td>California</td>\n",
       "    </tr>\n",
       "    <tr>\n",
       "      <th>3</th>\n",
       "      <td>USER_0003</td>\n",
       "      <td>17</td>\n",
       "      <td>11</td>\n",
       "      <td>1467.43528</td>\n",
       "      <td>0.032086</td>\n",
       "      <td>17</td>\n",
       "      <td>Apparel</td>\n",
       "      <td>California</td>\n",
       "    </tr>\n",
       "    <tr>\n",
       "      <th>4</th>\n",
       "      <td>USER_0004</td>\n",
       "      <td>107</td>\n",
       "      <td>13</td>\n",
       "      <td>2007.42900</td>\n",
       "      <td>0.023504</td>\n",
       "      <td>107</td>\n",
       "      <td>Apparel</td>\n",
       "      <td>Chicago</td>\n",
       "    </tr>\n",
       "    <tr>\n",
       "      <th>...</th>\n",
       "      <td>...</td>\n",
       "      <td>...</td>\n",
       "      <td>...</td>\n",
       "      <td>...</td>\n",
       "      <td>...</td>\n",
       "      <td>...</td>\n",
       "      <td>...</td>\n",
       "      <td>...</td>\n",
       "    </tr>\n",
       "    <tr>\n",
       "      <th>1463</th>\n",
       "      <td>USER_1463</td>\n",
       "      <td>270</td>\n",
       "      <td>3</td>\n",
       "      <td>860.68600</td>\n",
       "      <td>0.142857</td>\n",
       "      <td>270</td>\n",
       "      <td>Apparel</td>\n",
       "      <td>California</td>\n",
       "    </tr>\n",
       "    <tr>\n",
       "      <th>1464</th>\n",
       "      <td>USER_1464</td>\n",
       "      <td>87</td>\n",
       "      <td>19</td>\n",
       "      <td>3016.54372</td>\n",
       "      <td>0.021053</td>\n",
       "      <td>99</td>\n",
       "      <td>Apparel</td>\n",
       "      <td>New York</td>\n",
       "    </tr>\n",
       "    <tr>\n",
       "      <th>1465</th>\n",
       "      <td>USER_1465</td>\n",
       "      <td>194</td>\n",
       "      <td>2</td>\n",
       "      <td>166.90750</td>\n",
       "      <td>0.187500</td>\n",
       "      <td>173</td>\n",
       "      <td>Apparel</td>\n",
       "      <td>Chicago</td>\n",
       "    </tr>\n",
       "    <tr>\n",
       "      <th>1466</th>\n",
       "      <td>USER_1466</td>\n",
       "      <td>69</td>\n",
       "      <td>1</td>\n",
       "      <td>333.80000</td>\n",
       "      <td>0.000000</td>\n",
       "      <td>69</td>\n",
       "      <td>Nest-USA</td>\n",
       "      <td>Chicago</td>\n",
       "    </tr>\n",
       "    <tr>\n",
       "      <th>1467</th>\n",
       "      <td>USER_1467</td>\n",
       "      <td>82</td>\n",
       "      <td>53</td>\n",
       "      <td>7356.85141</td>\n",
       "      <td>0.007029</td>\n",
       "      <td>114</td>\n",
       "      <td>Apparel</td>\n",
       "      <td>New Jersey</td>\n",
       "    </tr>\n",
       "  </tbody>\n",
       "</table>\n",
       "<p>1468 rows × 8 columns</p>\n",
       "</div>"
      ],
      "text/plain": [
       "           고객ID  Recency  Frequency     Monetary     ratio  평균구매주기  최다구매카테고리  \\\n",
       "0     USER_0000      107          1    174.98174  1.000000     107   Apparel   \n",
       "1     USER_0001       59         31  15686.84396  0.010753     168  Nest-USA   \n",
       "2     USER_0002       73          8   1689.55594  0.059783     155    Office   \n",
       "3     USER_0003       17         11   1467.43528  0.032086      17   Apparel   \n",
       "4     USER_0004      107         13   2007.42900  0.023504     107   Apparel   \n",
       "...         ...      ...        ...          ...       ...     ...       ...   \n",
       "1463  USER_1463      270          3    860.68600  0.142857     270   Apparel   \n",
       "1464  USER_1464       87         19   3016.54372  0.021053      99   Apparel   \n",
       "1465  USER_1465      194          2    166.90750  0.187500     173   Apparel   \n",
       "1466  USER_1466       69          1    333.80000  0.000000      69  Nest-USA   \n",
       "1467  USER_1467       82         53   7356.85141  0.007029     114   Apparel   \n",
       "\n",
       "            고객지역  \n",
       "0       New York  \n",
       "1       New York  \n",
       "2     California  \n",
       "3     California  \n",
       "4        Chicago  \n",
       "...          ...  \n",
       "1463  California  \n",
       "1464    New York  \n",
       "1465     Chicago  \n",
       "1466     Chicago  \n",
       "1467  New Jersey  \n",
       "\n",
       "[1468 rows x 8 columns]"
      ]
     },
     "execution_count": 412,
     "metadata": {},
     "output_type": "execute_result"
    }
   ],
   "source": [
    "rfm = pd.merge(rfm, user_region, how='left', on='고객ID')\n",
    "rfm"
   ]
  },
  {
   "cell_type": "code",
   "execution_count": 413,
   "metadata": {},
   "outputs": [
    {
     "data": {
      "text/plain": [
       "(array([358., 251., 180., 132., 101.,  81.,  63.,  42.,  40.,  38.]),\n",
       " array([6.99000000e+00, 7.60543706e+02, 1.51409741e+03, 2.26765112e+03,\n",
       "        3.02120482e+03, 3.77475853e+03, 4.52831224e+03, 5.28186594e+03,\n",
       "        6.03541965e+03, 6.78897335e+03, 7.54252706e+03]),\n",
       " <BarContainer object of 10 artists>)"
      ]
     },
     "execution_count": 413,
     "metadata": {},
     "output_type": "execute_result"
    },
    {
     "data": {
      "image/png": "[encoded data removed]",
      "text/plain": [
       "<Figure size 640x480 with 1 Axes>"
      ]
     },
     "metadata": {},
     "output_type": "display_data"
    }
   ],
   "source": [
    "plt.hist(rfm[rfm['Monetary'] <= 7600]['Monetary'])"
   ]
  },
  {
   "cell_type": "code",
   "execution_count": 414,
   "metadata": {},
   "outputs": [],
   "source": [
    "label_r = [4, 3, 2, 1]\n",
    "label_f = [1, 2, 3, 4]\n",
    "label_m = [1, 2, 3, 4]\n",
    "\n",
    "## EDA\n",
    "## bins를 만들 때\n",
    "## 각 컬럼의 히스토그램과 boxplot 등을 봤을 때\n",
    "## 특정 구간에 밀도가 너무 높아서\n",
    "## 그 구간을 다시 분할하여 bins 를 생성\n",
    "\n",
    "rfm[\"recency_score\"] = pd.cut(rfm[\"Recency\"], bins=[0, 30, 90, 180, 364], labels=label_r, include_lowest=True)\n",
    "rfm[\"frequency_score\"] = pd.cut(rfm[\"Frequency\"], bins=[0, 12, 25, 53, 329], labels=label_f, include_lowest=True)\n",
    "rfm[\"monetary_score\"] = pd.cut(rfm[\"Monetary\"], bins=[0, 760, 1750, 7594, 90000], labels=label_m, include_lowest=True)\n",
    "rfm[\"RFM_SCORE\"] = rfm[\"recency_score\"].astype(str) + rfm[\"frequency_score\"].astype(str) + rfm[\"monetary_score\"].astype(str)"
   ]
  },
  {
   "cell_type": "code",
   "execution_count": 415,
   "metadata": {},
   "outputs": [],
   "source": [
    "seg_map = {\n",
    "    r'[1-2]1[1-4]': 'Hibernating',          # 1\n",
    "    r'[1-2]2[1-4]': 'About to Sleep',       # 2\n",
    "    r'[1-2][3-4][1-4]': 'At Risk',          # 3\n",
    "    r'3[1-2][1-4]': 'Can\\'t Lose',          # 4\n",
    "    r'3[3-4][1-4]': 'Typical',              # 5\n",
    "    r'4[1-2][1-2]': 'New Customers',        # 6\n",
    "    r'4[1-2][3-4]': 'Loyal Customers',      # 7\n",
    "    r'4[3-4][1-3]': 'Loyal Customers',      # 7\n",
    "    r'4[3-4][4]': 'VIP'                     # 8\n",
    "}\n",
    "\n",
    "rfm['Segmentation'] = rfm['RFM_SCORE'].replace(seg_map, regex=True)"
   ]
  },
  {
   "cell_type": "code",
   "execution_count": 416,
   "metadata": {},
   "outputs": [],
   "source": [
    "indexing = ['VIP',\n",
    "            'Loyal Customers',\n",
    "            'Typical',\n",
    "            'New Customers',\n",
    "            'At Risk',\n",
    "            'Can\\'t Lose',\n",
    "            'About to Sleep',\n",
    "            'Hibernating'\n",
    "            ]"
   ]
  },
  {
   "cell_type": "code",
   "execution_count": 417,
   "metadata": {},
   "outputs": [],
   "source": [
    "seg_stats = pd.DataFrame((rfm['Segmentation'].value_counts()/ rfm['Segmentation'].count()).round(4)*100)"
   ]
  },
  {
   "cell_type": "code",
   "execution_count": 418,
   "metadata": {},
   "outputs": [
    {
     "data": {
      "text/html": [
       "<div>\n",
       "<style scoped>\n",
       "    .dataframe tbody tr th:only-of-type {\n",
       "        vertical-align: middle;\n",
       "    }\n",
       "\n",
       "    .dataframe tbody tr th {\n",
       "        vertical-align: top;\n",
       "    }\n",
       "\n",
       "    .dataframe thead th {\n",
       "        text-align: right;\n",
       "    }\n",
       "</style>\n",
       "<table border=\"1\" class=\"dataframe\">\n",
       "  <thead>\n",
       "    <tr style=\"text-align: right;\">\n",
       "      <th></th>\n",
       "      <th>Segmentation</th>\n",
       "    </tr>\n",
       "  </thead>\n",
       "  <tbody>\n",
       "    <tr>\n",
       "      <th>VIP</th>\n",
       "      <td>3.27</td>\n",
       "    </tr>\n",
       "    <tr>\n",
       "      <th>Loyal Customers</th>\n",
       "      <td>7.29</td>\n",
       "    </tr>\n",
       "    <tr>\n",
       "      <th>Typical</th>\n",
       "      <td>7.56</td>\n",
       "    </tr>\n",
       "    <tr>\n",
       "      <th>New Customers</th>\n",
       "      <td>5.52</td>\n",
       "    </tr>\n",
       "    <tr>\n",
       "      <th>At Risk</th>\n",
       "      <td>10.22</td>\n",
       "    </tr>\n",
       "    <tr>\n",
       "      <th>Can't Lose</th>\n",
       "      <td>13.62</td>\n",
       "    </tr>\n",
       "    <tr>\n",
       "      <th>About to Sleep</th>\n",
       "      <td>12.87</td>\n",
       "    </tr>\n",
       "    <tr>\n",
       "      <th>Hibernating</th>\n",
       "      <td>39.65</td>\n",
       "    </tr>\n",
       "  </tbody>\n",
       "</table>\n",
       "</div>"
      ],
      "text/plain": [
       "                 Segmentation\n",
       "VIP                      3.27\n",
       "Loyal Customers          7.29\n",
       "Typical                  7.56\n",
       "New Customers            5.52\n",
       "At Risk                 10.22\n",
       "Can't Lose              13.62\n",
       "About to Sleep          12.87\n",
       "Hibernating             39.65"
      ]
     },
     "execution_count": 418,
     "metadata": {},
     "output_type": "execute_result"
    }
   ],
   "source": [
    "seg_stats.reindex(index=indexing)"
   ]
  },
  {
   "cell_type": "code",
   "execution_count": 419,
   "metadata": {},
   "outputs": [],
   "source": [
    "rfm.to_csv('user_feature.csv')"
   ]
  },
  {
   "cell_type": "code",
   "execution_count": 420,
   "metadata": {},
   "outputs": [
    {
     "data": {
      "text/html": [
       "<div>\n",
       "<style scoped>\n",
       "    .dataframe tbody tr th:only-of-type {\n",
       "        vertical-align: middle;\n",
       "    }\n",
       "\n",
       "    .dataframe tbody tr th {\n",
       "        vertical-align: top;\n",
       "    }\n",
       "\n",
       "    .dataframe thead th {\n",
       "        text-align: right;\n",
       "    }\n",
       "</style>\n",
       "<table border=\"1\" class=\"dataframe\">\n",
       "  <thead>\n",
       "    <tr style=\"text-align: right;\">\n",
       "      <th></th>\n",
       "      <th>고객ID</th>\n",
       "      <th>Recency</th>\n",
       "      <th>Frequency</th>\n",
       "      <th>Monetary</th>\n",
       "      <th>ratio</th>\n",
       "      <th>평균구매주기</th>\n",
       "      <th>최다구매카테고리</th>\n",
       "      <th>고객지역</th>\n",
       "      <th>recency_score</th>\n",
       "      <th>frequency_score</th>\n",
       "      <th>monetary_score</th>\n",
       "      <th>RFM_SCORE</th>\n",
       "      <th>Segmentation</th>\n",
       "    </tr>\n",
       "  </thead>\n",
       "  <tbody>\n",
       "    <tr>\n",
       "      <th>0</th>\n",
       "      <td>USER_0000</td>\n",
       "      <td>107</td>\n",
       "      <td>1</td>\n",
       "      <td>174.98174</td>\n",
       "      <td>1.000000</td>\n",
       "      <td>107</td>\n",
       "      <td>Apparel</td>\n",
       "      <td>New York</td>\n",
       "      <td>2</td>\n",
       "      <td>1</td>\n",
       "      <td>1</td>\n",
       "      <td>211</td>\n",
       "      <td>Hibernating</td>\n",
       "    </tr>\n",
       "    <tr>\n",
       "      <th>1</th>\n",
       "      <td>USER_0001</td>\n",
       "      <td>59</td>\n",
       "      <td>31</td>\n",
       "      <td>15686.84396</td>\n",
       "      <td>0.010753</td>\n",
       "      <td>168</td>\n",
       "      <td>Nest-USA</td>\n",
       "      <td>New York</td>\n",
       "      <td>3</td>\n",
       "      <td>3</td>\n",
       "      <td>4</td>\n",
       "      <td>334</td>\n",
       "      <td>Typical</td>\n",
       "    </tr>\n",
       "    <tr>\n",
       "      <th>2</th>\n",
       "      <td>USER_0002</td>\n",
       "      <td>73</td>\n",
       "      <td>8</td>\n",
       "      <td>1689.55594</td>\n",
       "      <td>0.059783</td>\n",
       "      <td>155</td>\n",
       "      <td>Office</td>\n",
       "      <td>California</td>\n",
       "      <td>3</td>\n",
       "      <td>1</td>\n",
       "      <td>2</td>\n",
       "      <td>312</td>\n",
       "      <td>Can't Lose</td>\n",
       "    </tr>\n",
       "    <tr>\n",
       "      <th>3</th>\n",
       "      <td>USER_0003</td>\n",
       "      <td>17</td>\n",
       "      <td>11</td>\n",
       "      <td>1467.43528</td>\n",
       "      <td>0.032086</td>\n",
       "      <td>17</td>\n",
       "      <td>Apparel</td>\n",
       "      <td>California</td>\n",
       "      <td>4</td>\n",
       "      <td>1</td>\n",
       "      <td>2</td>\n",
       "      <td>412</td>\n",
       "      <td>New Customers</td>\n",
       "    </tr>\n",
       "    <tr>\n",
       "      <th>4</th>\n",
       "      <td>USER_0004</td>\n",
       "      <td>107</td>\n",
       "      <td>13</td>\n",
       "      <td>2007.42900</td>\n",
       "      <td>0.023504</td>\n",
       "      <td>107</td>\n",
       "      <td>Apparel</td>\n",
       "      <td>Chicago</td>\n",
       "      <td>2</td>\n",
       "      <td>2</td>\n",
       "      <td>3</td>\n",
       "      <td>223</td>\n",
       "      <td>About to Sleep</td>\n",
       "    </tr>\n",
       "  </tbody>\n",
       "</table>\n",
       "</div>"
      ],
      "text/plain": [
       "        고객ID  Recency  Frequency     Monetary     ratio  평균구매주기  최다구매카테고리  \\\n",
       "0  USER_0000      107          1    174.98174  1.000000     107   Apparel   \n",
       "1  USER_0001       59         31  15686.84396  0.010753     168  Nest-USA   \n",
       "2  USER_0002       73          8   1689.55594  0.059783     155    Office   \n",
       "3  USER_0003       17         11   1467.43528  0.032086      17   Apparel   \n",
       "4  USER_0004      107         13   2007.42900  0.023504     107   Apparel   \n",
       "\n",
       "         고객지역 recency_score frequency_score monetary_score RFM_SCORE  \\\n",
       "0    New York             2               1              1       211   \n",
       "1    New York             3               3              4       334   \n",
       "2  California             3               1              2       312   \n",
       "3  California             4               1              2       412   \n",
       "4     Chicago             2               2              3       223   \n",
       "\n",
       "     Segmentation  \n",
       "0     Hibernating  \n",
       "1         Typical  \n",
       "2      Can't Lose  \n",
       "3   New Customers  \n",
       "4  About to Sleep  "
      ]
     },
     "execution_count": 420,
     "metadata": {},
     "output_type": "execute_result"
    }
   ],
   "source": [
    "rfm.head()"
   ]
  },
  {
   "cell_type": "markdown",
   "metadata": {},
   "source": [
    "## 클러스터링"
   ]
  },
  {
   "cell_type": "markdown",
   "metadata": {},
   "source": [
    "### 1. k-means, pca"
   ]
  },
  {
   "cell_type": "code",
   "execution_count": 421,
   "metadata": {},
   "outputs": [
    {
     "data": {
      "text/html": [
       "<div>\n",
       "<style scoped>\n",
       "    .dataframe tbody tr th:only-of-type {\n",
       "        vertical-align: middle;\n",
       "    }\n",
       "\n",
       "    .dataframe tbody tr th {\n",
       "        vertical-align: top;\n",
       "    }\n",
       "\n",
       "    .dataframe thead th {\n",
       "        text-align: right;\n",
       "    }\n",
       "</style>\n",
       "<table border=\"1\" class=\"dataframe\">\n",
       "  <thead>\n",
       "    <tr style=\"text-align: right;\">\n",
       "      <th></th>\n",
       "      <th>고객ID</th>\n",
       "      <th>Recency</th>\n",
       "      <th>Frequency</th>\n",
       "      <th>Monetary</th>\n",
       "      <th>ratio</th>\n",
       "      <th>평균구매주기</th>\n",
       "    </tr>\n",
       "    <tr>\n",
       "      <th>Segmentation</th>\n",
       "      <th></th>\n",
       "      <th></th>\n",
       "      <th></th>\n",
       "      <th></th>\n",
       "      <th></th>\n",
       "      <th></th>\n",
       "    </tr>\n",
       "  </thead>\n",
       "  <tbody>\n",
       "    <tr>\n",
       "      <th>VIP</th>\n",
       "      <td>48</td>\n",
       "      <td>14.729167</td>\n",
       "      <td>82.916667</td>\n",
       "      <td>18779.236879</td>\n",
       "      <td>0.005619</td>\n",
       "      <td>97.520833</td>\n",
       "    </tr>\n",
       "    <tr>\n",
       "      <th>Loyal Customers</th>\n",
       "      <td>107</td>\n",
       "      <td>16.728972</td>\n",
       "      <td>19.448598</td>\n",
       "      <td>3885.857418</td>\n",
       "      <td>0.021205</td>\n",
       "      <td>85.130841</td>\n",
       "    </tr>\n",
       "    <tr>\n",
       "      <th>Typical</th>\n",
       "      <td>111</td>\n",
       "      <td>56.639640</td>\n",
       "      <td>45.027027</td>\n",
       "      <td>9338.793550</td>\n",
       "      <td>0.008785</td>\n",
       "      <td>100.972973</td>\n",
       "    </tr>\n",
       "    <tr>\n",
       "      <th>New Customers</th>\n",
       "      <td>81</td>\n",
       "      <td>17.901235</td>\n",
       "      <td>5.567901</td>\n",
       "      <td>840.164773</td>\n",
       "      <td>0.097819</td>\n",
       "      <td>46.148148</td>\n",
       "    </tr>\n",
       "    <tr>\n",
       "      <th>At Risk</th>\n",
       "      <td>150</td>\n",
       "      <td>192.826667</td>\n",
       "      <td>42.753333</td>\n",
       "      <td>8668.394573</td>\n",
       "      <td>0.009279</td>\n",
       "      <td>147.426667</td>\n",
       "    </tr>\n",
       "    <tr>\n",
       "      <th>Can't Lose</th>\n",
       "      <td>200</td>\n",
       "      <td>60.830000</td>\n",
       "      <td>11.195000</td>\n",
       "      <td>2334.280137</td>\n",
       "      <td>0.059094</td>\n",
       "      <td>92.315000</td>\n",
       "    </tr>\n",
       "    <tr>\n",
       "      <th>About to Sleep</th>\n",
       "      <td>189</td>\n",
       "      <td>197.259259</td>\n",
       "      <td>17.931217</td>\n",
       "      <td>3423.765725</td>\n",
       "      <td>0.019522</td>\n",
       "      <td>174.317460</td>\n",
       "    </tr>\n",
       "    <tr>\n",
       "      <th>Hibernating</th>\n",
       "      <td>582</td>\n",
       "      <td>211.709622</td>\n",
       "      <td>5.292096</td>\n",
       "      <td>964.436884</td>\n",
       "      <td>0.123962</td>\n",
       "      <td>202.960481</td>\n",
       "    </tr>\n",
       "  </tbody>\n",
       "</table>\n",
       "</div>"
      ],
      "text/plain": [
       "                 고객ID     Recency  Frequency      Monetary     ratio  \\\n",
       "Segmentation                                                           \n",
       "VIP                48   14.729167  82.916667  18779.236879  0.005619   \n",
       "Loyal Customers   107   16.728972  19.448598   3885.857418  0.021205   \n",
       "Typical           111   56.639640  45.027027   9338.793550  0.008785   \n",
       "New Customers      81   17.901235   5.567901    840.164773  0.097819   \n",
       "At Risk           150  192.826667  42.753333   8668.394573  0.009279   \n",
       "Can't Lose        200   60.830000  11.195000   2334.280137  0.059094   \n",
       "About to Sleep    189  197.259259  17.931217   3423.765725  0.019522   \n",
       "Hibernating       582  211.709622   5.292096    964.436884  0.123962   \n",
       "\n",
       "                     평균구매주기  \n",
       "Segmentation                 \n",
       "VIP               97.520833  \n",
       "Loyal Customers   85.130841  \n",
       "Typical          100.972973  \n",
       "New Customers     46.148148  \n",
       "At Risk          147.426667  \n",
       "Can't Lose        92.315000  \n",
       "About to Sleep   174.317460  \n",
       "Hibernating      202.960481  "
      ]
     },
     "execution_count": 421,
     "metadata": {},
     "output_type": "execute_result"
    }
   ],
   "source": [
    "rfm.groupby('Segmentation')[['고객ID', 'Recency','Frequency','Monetary', 'ratio', '평균구매주기']].agg({'고객ID':'count', 'Recency':'mean', 'Frequency':'mean', 'Monetary':'mean', 'ratio':'mean', '평균구매주기':'mean'}).reindex(index=indexing)\n"
   ]
  },
  {
   "cell_type": "code",
   "execution_count": 422,
   "metadata": {},
   "outputs": [],
   "source": [
    "rfm_cluster = rfm[['Recency', 'Frequency', 'Monetary', '평균구매주기', 'ratio']]"
   ]
  },
  {
   "cell_type": "code",
   "execution_count": 423,
   "metadata": {},
   "outputs": [],
   "source": [
    "from sklearn.preprocessing import StandardScaler\n",
    "\n",
    "scaler = StandardScaler()\n",
    "\n",
    "rfm_cluster_s = pd.DataFrame(data=scaler.fit_transform(rfm_cluster), columns=rfm_cluster.columns)"
   ]
  },
  {
   "cell_type": "code",
   "execution_count": 424,
   "metadata": {},
   "outputs": [
    {
     "data": {
      "text/html": [
       "<div>\n",
       "<style scoped>\n",
       "    .dataframe tbody tr th:only-of-type {\n",
       "        vertical-align: middle;\n",
       "    }\n",
       "\n",
       "    .dataframe tbody tr th {\n",
       "        vertical-align: top;\n",
       "    }\n",
       "\n",
       "    .dataframe thead th {\n",
       "        text-align: right;\n",
       "    }\n",
       "</style>\n",
       "<table border=\"1\" class=\"dataframe\">\n",
       "  <thead>\n",
       "    <tr style=\"text-align: right;\">\n",
       "      <th></th>\n",
       "      <th>Recency</th>\n",
       "      <th>Frequency</th>\n",
       "      <th>Monetary</th>\n",
       "      <th>평균구매주기</th>\n",
       "      <th>ratio</th>\n",
       "    </tr>\n",
       "  </thead>\n",
       "  <tbody>\n",
       "    <tr>\n",
       "      <th>0</th>\n",
       "      <td>-0.365961</td>\n",
       "      <td>-0.686522</td>\n",
       "      <td>-0.599185</td>\n",
       "      <td>-0.475194</td>\n",
       "      <td>6.103502</td>\n",
       "    </tr>\n",
       "    <tr>\n",
       "      <th>1</th>\n",
       "      <td>-0.837001</td>\n",
       "      <td>0.515021</td>\n",
       "      <td>2.055096</td>\n",
       "      <td>0.196981</td>\n",
       "      <td>-0.378026</td>\n",
       "    </tr>\n",
       "    <tr>\n",
       "      <th>2</th>\n",
       "      <td>-0.699614</td>\n",
       "      <td>-0.406162</td>\n",
       "      <td>-0.340022</td>\n",
       "      <td>0.053730</td>\n",
       "      <td>-0.056783</td>\n",
       "    </tr>\n",
       "    <tr>\n",
       "      <th>3</th>\n",
       "      <td>-1.249160</td>\n",
       "      <td>-0.286007</td>\n",
       "      <td>-0.378030</td>\n",
       "      <td>-1.466928</td>\n",
       "      <td>-0.238254</td>\n",
       "    </tr>\n",
       "    <tr>\n",
       "      <th>4</th>\n",
       "      <td>-0.365961</td>\n",
       "      <td>-0.205905</td>\n",
       "      <td>-0.285630</td>\n",
       "      <td>-0.475194</td>\n",
       "      <td>-0.294478</td>\n",
       "    </tr>\n",
       "    <tr>\n",
       "      <th>...</th>\n",
       "      <td>...</td>\n",
       "      <td>...</td>\n",
       "      <td>...</td>\n",
       "      <td>...</td>\n",
       "      <td>...</td>\n",
       "    </tr>\n",
       "    <tr>\n",
       "      <th>1463</th>\n",
       "      <td>1.233611</td>\n",
       "      <td>-0.606419</td>\n",
       "      <td>-0.481852</td>\n",
       "      <td>1.320945</td>\n",
       "      <td>0.487519</td>\n",
       "    </tr>\n",
       "    <tr>\n",
       "      <th>1464</th>\n",
       "      <td>-0.562227</td>\n",
       "      <td>0.034404</td>\n",
       "      <td>-0.112957</td>\n",
       "      <td>-0.563348</td>\n",
       "      <td>-0.310541</td>\n",
       "    </tr>\n",
       "    <tr>\n",
       "      <th>1465</th>\n",
       "      <td>0.487799</td>\n",
       "      <td>-0.646470</td>\n",
       "      <td>-0.600567</td>\n",
       "      <td>0.252077</td>\n",
       "      <td>0.780018</td>\n",
       "    </tr>\n",
       "    <tr>\n",
       "      <th>1466</th>\n",
       "      <td>-0.738867</td>\n",
       "      <td>-0.686522</td>\n",
       "      <td>-0.572009</td>\n",
       "      <td>-0.893926</td>\n",
       "      <td>-0.448478</td>\n",
       "    </tr>\n",
       "    <tr>\n",
       "      <th>1467</th>\n",
       "      <td>-0.611294</td>\n",
       "      <td>1.396152</td>\n",
       "      <td>0.629726</td>\n",
       "      <td>-0.398059</td>\n",
       "      <td>-0.402423</td>\n",
       "    </tr>\n",
       "  </tbody>\n",
       "</table>\n",
       "<p>1468 rows × 5 columns</p>\n",
       "</div>"
      ],
      "text/plain": [
       "       Recency  Frequency  Monetary    평균구매주기     ratio\n",
       "0    -0.365961  -0.686522 -0.599185 -0.475194  6.103502\n",
       "1    -0.837001   0.515021  2.055096  0.196981 -0.378026\n",
       "2    -0.699614  -0.406162 -0.340022  0.053730 -0.056783\n",
       "3    -1.249160  -0.286007 -0.378030 -1.466928 -0.238254\n",
       "4    -0.365961  -0.205905 -0.285630 -0.475194 -0.294478\n",
       "...        ...        ...       ...       ...       ...\n",
       "1463  1.233611  -0.606419 -0.481852  1.320945  0.487519\n",
       "1464 -0.562227   0.034404 -0.112957 -0.563348 -0.310541\n",
       "1465  0.487799  -0.646470 -0.600567  0.252077  0.780018\n",
       "1466 -0.738867  -0.686522 -0.572009 -0.893926 -0.448478\n",
       "1467 -0.611294   1.396152  0.629726 -0.398059 -0.402423\n",
       "\n",
       "[1468 rows x 5 columns]"
      ]
     },
     "execution_count": 424,
     "metadata": {},
     "output_type": "execute_result"
    }
   ],
   "source": [
    "rfm_cluster_s"
   ]
  },
  {
   "cell_type": "code",
   "execution_count": 425,
   "metadata": {},
   "outputs": [
    {
     "data": {
      "text/html": [
       "<div>\n",
       "<style scoped>\n",
       "    .dataframe tbody tr th:only-of-type {\n",
       "        vertical-align: middle;\n",
       "    }\n",
       "\n",
       "    .dataframe tbody tr th {\n",
       "        vertical-align: top;\n",
       "    }\n",
       "\n",
       "    .dataframe thead th {\n",
       "        text-align: right;\n",
       "    }\n",
       "</style>\n",
       "<table border=\"1\" class=\"dataframe\">\n",
       "  <thead>\n",
       "    <tr style=\"text-align: right;\">\n",
       "      <th></th>\n",
       "      <th>고객ID</th>\n",
       "      <th>Recency</th>\n",
       "      <th>Frequency</th>\n",
       "      <th>Monetary</th>\n",
       "    </tr>\n",
       "    <tr>\n",
       "      <th>kmeans</th>\n",
       "      <th></th>\n",
       "      <th></th>\n",
       "      <th></th>\n",
       "      <th></th>\n",
       "    </tr>\n",
       "  </thead>\n",
       "  <tbody>\n",
       "    <tr>\n",
       "      <th>2</th>\n",
       "      <td>5</td>\n",
       "      <td>29.200000</td>\n",
       "      <td>289.400000</td>\n",
       "      <td>70779.311820</td>\n",
       "    </tr>\n",
       "    <tr>\n",
       "      <th>6</th>\n",
       "      <td>29</td>\n",
       "      <td>62.517241</td>\n",
       "      <td>99.448276</td>\n",
       "      <td>22052.658105</td>\n",
       "    </tr>\n",
       "    <tr>\n",
       "      <th>0</th>\n",
       "      <td>209</td>\n",
       "      <td>87.803828</td>\n",
       "      <td>43.229665</td>\n",
       "      <td>9120.246718</td>\n",
       "    </tr>\n",
       "    <tr>\n",
       "      <th>4</th>\n",
       "      <td>429</td>\n",
       "      <td>53.086247</td>\n",
       "      <td>12.230769</td>\n",
       "      <td>2328.095305</td>\n",
       "    </tr>\n",
       "    <tr>\n",
       "      <th>1</th>\n",
       "      <td>251</td>\n",
       "      <td>301.490040</td>\n",
       "      <td>9.860558</td>\n",
       "      <td>2015.833812</td>\n",
       "    </tr>\n",
       "    <tr>\n",
       "      <th>3</th>\n",
       "      <td>492</td>\n",
       "      <td>167.512195</td>\n",
       "      <td>11.154472</td>\n",
       "      <td>2003.527520</td>\n",
       "    </tr>\n",
       "    <tr>\n",
       "      <th>5</th>\n",
       "      <td>53</td>\n",
       "      <td>200.886792</td>\n",
       "      <td>1.037736</td>\n",
       "      <td>138.506140</td>\n",
       "    </tr>\n",
       "  </tbody>\n",
       "</table>\n",
       "</div>"
      ],
      "text/plain": [
       "        고객ID     Recency   Frequency      Monetary\n",
       "kmeans                                            \n",
       "2          5   29.200000  289.400000  70779.311820\n",
       "6         29   62.517241   99.448276  22052.658105\n",
       "0        209   87.803828   43.229665   9120.246718\n",
       "4        429   53.086247   12.230769   2328.095305\n",
       "1        251  301.490040    9.860558   2015.833812\n",
       "3        492  167.512195   11.154472   2003.527520\n",
       "5         53  200.886792    1.037736    138.506140"
      ]
     },
     "execution_count": 425,
     "metadata": {},
     "output_type": "execute_result"
    }
   ],
   "source": [
    "from sklearn.cluster import KMeans\n",
    "\n",
    "kmeans = KMeans(n_clusters=7, random_state=42, init='k-means++').fit(rfm_cluster_s.iloc[:, :5])\n",
    "rfm_cluster_s['cluster_result'] = kmeans.labels_\n",
    "rfm_cluster_s['RFM'] = rfm['Segmentation']\n",
    "\n",
    "\n",
    "rfm['kmeans'] = rfm_cluster_s['cluster_result']\n",
    "rfm.groupby('kmeans')[['고객ID', 'Recency','Frequency','Monetary']].agg({'고객ID':'count', 'Recency':'mean', 'Frequency':'mean', 'Monetary':'mean'}).sort_values('Monetary', ascending=False)"
   ]
  },
  {
   "cell_type": "code",
   "execution_count": 426,
   "metadata": {},
   "outputs": [
    {
     "data": {
      "text/plain": [
       "<seaborn.axisgrid.FacetGrid at 0x1ea04f9de80>"
      ]
     },
     "execution_count": 426,
     "metadata": {},
     "output_type": "execute_result"
    },
    {
     "data": {
      "image/png": "[encoded data removed]",
      "text/plain": [
       "<Figure size 591.861x500 with 1 Axes>"
      ]
     },
     "metadata": {},
     "output_type": "display_data"
    }
   ],
   "source": [
    "g = sns.FacetGrid(rfm_cluster_s, hue=\"cluster_result\", height = 5, margin_titles = True,\n",
    "                  palette = sns.color_palette(\"pastel\", 5))\n",
    "g.map_dataframe(plt.scatter, \"Frequency\", \"Monetary\")\n",
    "g.add_legend()\n",
    "g.fig.subplots_adjust(top=0.9)\n",
    "g.fig.suptitle(\"kmeans - ecommerce\")\n",
    "g.set_xlabels(\"Frequency\")\n",
    "g.set_ylabels(\"Monetary\")"
   ]
  },
  {
   "cell_type": "code",
   "execution_count": 427,
   "metadata": {},
   "outputs": [
    {
     "data": {
      "application/vnd.plotly.v1+json": {
       "config": {
        "plotlyServerURL": "https://plot.ly"
       },
       "data": [
        {
         "fill": "toself",
         "name": "cluster 0",
         "r": [
          -0.5521337570537868,
          1.002122348726102,
          0.9281099242145454,
          -0.3768080222684111,
          -0.39259817727366053
         ],
         "theta": [
          "Recency",
          "Frequency",
          "Monetary",
          "평균구매주기",
          "ratio"
         ],
         "type": "scatterpolar"
        },
        {
         "fill": "toself",
         "name": "cluster 1",
         "r": [
          1.5426335662535575,
          -0.33164376743285195,
          -0.28419153617288995,
          1.5078771358790706,
          -0.07449667883559108
         ],
         "theta": [
          "Recency",
          "Frequency",
          "Monetary",
          "평균구매주기",
          "ratio"
         ],
         "type": "scatterpolar"
        },
        {
         "fill": "toself",
         "name": "cluster 2",
         "r": [
          -1.129437801770354,
          10.864306842504115,
          11.482134960925867,
          -1.3655503339289103,
          -0.4404247238201601
         ],
         "theta": [
          "Recency",
          "Frequency",
          "Monetary",
          "평균구매주기",
          "ratio"
         ],
         "type": "scatterpolar"
        },
        {
         "fill": "toself",
         "name": "cluster 3",
         "r": [
          0.22851488458251415,
          -0.2812763675879862,
          -0.2873420740086924,
          0.21058064653809697,
          -0.14349623355089447
         ],
         "theta": [
          "Recency",
          "Frequency",
          "Monetary",
          "평균구매주기",
          "ratio"
         ],
         "type": "scatterpolar"
        },
        {
         "fill": "toself",
         "name": "cluster 4",
         "r": [
          -0.8950342335529466,
          -0.23671344114284587,
          -0.2307595285352914,
          -0.9326090666500434,
          -0.1268929617466195
         ],
         "theta": [
          "Recency",
          "Frequency",
          "Monetary",
          "평균구매주기",
          "ratio"
         ],
         "type": "scatterpolar"
        },
        {
         "fill": "toself",
         "name": "cluster 5",
         "r": [
          0.555380940220974,
          -0.6850102822499399,
          -0.6054267466239871,
          0.5394091543903726,
          4.538404582156672
         ],
         "theta": [
          "Recency",
          "Frequency",
          "Monetary",
          "평균구매주기",
          "ratio"
         ],
         "type": "scatterpolar"
        },
        {
         "fill": "toself",
         "name": "cluster 6",
         "r": [
          -0.8024847967933791,
          3.2564712370990585,
          3.144370011747957,
          -0.8418695792987172,
          -0.4239760123176519
         ],
         "theta": [
          "Recency",
          "Frequency",
          "Monetary",
          "평균구매주기",
          "ratio"
         ],
         "type": "scatterpolar"
        }
       ],
       "layout": {
        "autosize": false,
        "height": 800,
        "template": {
         "data": {
          "bar": [
           {
            "error_x": {
             "color": "#2a3f5f"
            },
            "error_y": {
             "color": "#2a3f5f"
            },
            "marker": {
             "line": {
              "color": "#E5ECF6",
              "width": 0.5
             },
             "pattern": {
              "fillmode": "overlay",
              "size": 10,
              "solidity": 0.2
             }
            },
            "type": "bar"
           }
          ],
          "barpolar": [
           {
            "marker": {
             "line": {
              "color": "#E5ECF6",
              "width": 0.5
             },
             "pattern": {
              "fillmode": "overlay",
              "size": 10,
              "solidity": 0.2
             }
            },
            "type": "barpolar"
           }
          ],
          "carpet": [
           {
            "aaxis": {
             "endlinecolor": "#2a3f5f",
             "gridcolor": "white",
             "linecolor": "white",
             "minorgridcolor": "white",
             "startlinecolor": "#2a3f5f"
            },
            "baxis": {
             "endlinecolor": "#2a3f5f",
             "gridcolor": "white",
             "linecolor": "white",
             "minorgridcolor": "white",
             "startlinecolor": "#2a3f5f"
            },
            "type": "carpet"
           }
          ],
          "choropleth": [
           {
            "colorbar": {
             "outlinewidth": 0,
             "ticks": ""
            },
            "type": "choropleth"
           }
          ],
          "contour": [
           {
            "colorbar": {
             "outlinewidth": 0,
             "ticks": ""
            },
            "colorscale": [
             [
              0,
              "#0d0887"
             ],
             [
              0.1111111111111111,
              "#46039f"
             ],
             [
              0.2222222222222222,
              "#7201a8"
             ],
             [
              0.3333333333333333,
              "#9c179e"
             ],
             [
              0.4444444444444444,
              "#bd3786"
             ],
             [
              0.5555555555555556,
              "#d8576b"
             ],
             [
              0.6666666666666666,
              "#ed7953"
             ],
             [
              0.7777777777777778,
              "#fb9f3a"
             ],
             [
              0.8888888888888888,
              "#fdca26"
             ],
             [
              1,
              "#f0f921"
             ]
            ],
            "type": "contour"
           }
          ],
          "contourcarpet": [
           {
            "colorbar": {
             "outlinewidth": 0,
             "ticks": ""
            },
            "type": "contourcarpet"
           }
          ],
          "heatmap": [
           {
            "colorbar": {
             "outlinewidth": 0,
             "ticks": ""
            },
            "colorscale": [
             [
              0,
              "#0d0887"
             ],
             [
              0.1111111111111111,
              "#46039f"
             ],
             [
              0.2222222222222222,
              "#7201a8"
             ],
             [
              0.3333333333333333,
              "#9c179e"
             ],
             [
              0.4444444444444444,
              "#bd3786"
             ],
             [
              0.5555555555555556,
              "#d8576b"
             ],
             [
              0.6666666666666666,
              "#ed7953"
             ],
             [
              0.7777777777777778,
              "#fb9f3a"
             ],
             [
              0.8888888888888888,
              "#fdca26"
             ],
             [
              1,
              "#f0f921"
             ]
            ],
            "type": "heatmap"
           }
          ],
          "heatmapgl": [
           {
            "colorbar": {
             "outlinewidth": 0,
             "ticks": ""
            },
            "colorscale": [
             [
              0,
              "#0d0887"
             ],
             [
              0.1111111111111111,
              "#46039f"
             ],
             [
              0.2222222222222222,
              "#7201a8"
             ],
             [
              0.3333333333333333,
              "#9c179e"
             ],
             [
              0.4444444444444444,
              "#bd3786"
             ],
             [
              0.5555555555555556,
              "#d8576b"
             ],
             [
              0.6666666666666666,
              "#ed7953"
             ],
             [
              0.7777777777777778,
              "#fb9f3a"
             ],
             [
              0.8888888888888888,
              "#fdca26"
             ],
             [
              1,
              "#f0f921"
             ]
            ],
            "type": "heatmapgl"
           }
          ],
          "histogram": [
           {
            "marker": {
             "pattern": {
              "fillmode": "overlay",
              "size": 10,
              "solidity": 0.2
             }
            },
            "type": "histogram"
           }
          ],
          "histogram2d": [
           {
            "colorbar": {
             "outlinewidth": 0,
             "ticks": ""
            },
            "colorscale": [
             [
              0,
              "#0d0887"
             ],
             [
              0.1111111111111111,
              "#46039f"
             ],
             [
              0.2222222222222222,
              "#7201a8"
             ],
             [
              0.3333333333333333,
              "#9c179e"
             ],
             [
              0.4444444444444444,
              "#bd3786"
             ],
             [
              0.5555555555555556,
              "#d8576b"
             ],
             [
              0.6666666666666666,
              "#ed7953"
             ],
             [
              0.7777777777777778,
              "#fb9f3a"
             ],
             [
              0.8888888888888888,
              "#fdca26"
             ],
             [
              1,
              "#f0f921"
             ]
            ],
            "type": "histogram2d"
           }
          ],
          "histogram2dcontour": [
           {
            "colorbar": {
             "outlinewidth": 0,
             "ticks": ""
            },
            "colorscale": [
             [
              0,
              "#0d0887"
             ],
             [
              0.1111111111111111,
              "#46039f"
             ],
             [
              0.2222222222222222,
              "#7201a8"
             ],
             [
              0.3333333333333333,
              "#9c179e"
             ],
             [
              0.4444444444444444,
              "#bd3786"
             ],
             [
              0.5555555555555556,
              "#d8576b"
             ],
             [
              0.6666666666666666,
              "#ed7953"
             ],
             [
              0.7777777777777778,
              "#fb9f3a"
             ],
             [
              0.8888888888888888,
              "#fdca26"
             ],
             [
              1,
              "#f0f921"
             ]
            ],
            "type": "histogram2dcontour"
           }
          ],
          "mesh3d": [
           {
            "colorbar": {
             "outlinewidth": 0,
             "ticks": ""
            },
            "type": "mesh3d"
           }
          ],
          "parcoords": [
           {
            "line": {
             "colorbar": {
              "outlinewidth": 0,
              "ticks": ""
             }
            },
            "type": "parcoords"
           }
          ],
          "pie": [
           {
            "automargin": true,
            "type": "pie"
           }
          ],
          "scatter": [
           {
            "fillpattern": {
             "fillmode": "overlay",
             "size": 10,
             "solidity": 0.2
            },
            "type": "scatter"
           }
          ],
          "scatter3d": [
           {
            "line": {
             "colorbar": {
              "outlinewidth": 0,
              "ticks": ""
             }
            },
            "marker": {
             "colorbar": {
              "outlinewidth": 0,
              "ticks": ""
             }
            },
            "type": "scatter3d"
           }
          ],
          "scattercarpet": [
           {
            "marker": {
             "colorbar": {
              "outlinewidth": 0,
              "ticks": ""
             }
            },
            "type": "scattercarpet"
           }
          ],
          "scattergeo": [
           {
            "marker": {
             "colorbar": {
              "outlinewidth": 0,
              "ticks": ""
             }
            },
            "type": "scattergeo"
           }
          ],
          "scattergl": [
           {
            "marker": {
             "colorbar": {
              "outlinewidth": 0,
              "ticks": ""
             }
            },
            "type": "scattergl"
           }
          ],
          "scattermapbox": [
           {
            "marker": {
             "colorbar": {
              "outlinewidth": 0,
              "ticks": ""
             }
            },
            "type": "scattermapbox"
           }
          ],
          "scatterpolar": [
           {
            "marker": {
             "colorbar": {
              "outlinewidth": 0,
              "ticks": ""
             }
            },
            "type": "scatterpolar"
           }
          ],
          "scatterpolargl": [
           {
            "marker": {
             "colorbar": {
              "outlinewidth": 0,
              "ticks": ""
             }
            },
            "type": "scatterpolargl"
           }
          ],
          "scatterternary": [
           {
            "marker": {
             "colorbar": {
              "outlinewidth": 0,
              "ticks": ""
             }
            },
            "type": "scatterternary"
           }
          ],
          "surface": [
           {
            "colorbar": {
             "outlinewidth": 0,
             "ticks": ""
            },
            "colorscale": [
             [
              0,
              "#0d0887"
             ],
             [
              0.1111111111111111,
              "#46039f"
             ],
             [
              0.2222222222222222,
              "#7201a8"
             ],
             [
              0.3333333333333333,
              "#9c179e"
             ],
             [
              0.4444444444444444,
              "#bd3786"
             ],
             [
              0.5555555555555556,
              "#d8576b"
             ],
             [
              0.6666666666666666,
              "#ed7953"
             ],
             [
              0.7777777777777778,
              "#fb9f3a"
             ],
             [
              0.8888888888888888,
              "#fdca26"
             ],
             [
              1,
              "#f0f921"
             ]
            ],
            "type": "surface"
           }
          ],
          "table": [
           {
            "cells": {
             "fill": {
              "color": "#EBF0F8"
             },
             "line": {
              "color": "white"
             }
            },
            "header": {
             "fill": {
              "color": "#C8D4E3"
             },
             "line": {
              "color": "white"
             }
            },
            "type": "table"
           }
          ]
         },
         "layout": {
          "annotationdefaults": {
           "arrowcolor": "#2a3f5f",
           "arrowhead": 0,
           "arrowwidth": 1
          },
          "autotypenumbers": "strict",
          "coloraxis": {
           "colorbar": {
            "outlinewidth": 0,
            "ticks": ""
           }
          },
          "colorscale": {
           "diverging": [
            [
             0,
             "#8e0152"
            ],
            [
             0.1,
             "#c51b7d"
            ],
            [
             0.2,
             "#de77ae"
            ],
            [
             0.3,
             "#f1b6da"
            ],
            [
             0.4,
             "#fde0ef"
            ],
            [
             0.5,
             "#f7f7f7"
            ],
            [
             0.6,
             "#e6f5d0"
            ],
            [
             0.7,
             "#b8e186"
            ],
            [
             0.8,
             "#7fbc41"
            ],
            [
             0.9,
             "#4d9221"
            ],
            [
             1,
             "#276419"
            ]
           ],
           "sequential": [
            [
             0,
             "#0d0887"
            ],
            [
             0.1111111111111111,
             "#46039f"
            ],
            [
             0.2222222222222222,
             "#7201a8"
            ],
            [
             0.3333333333333333,
             "#9c179e"
            ],
            [
             0.4444444444444444,
             "#bd3786"
            ],
            [
             0.5555555555555556,
             "#d8576b"
            ],
            [
             0.6666666666666666,
             "#ed7953"
            ],
            [
             0.7777777777777778,
             "#fb9f3a"
            ],
            [
             0.8888888888888888,
             "#fdca26"
            ],
            [
             1,
             "#f0f921"
            ]
           ],
           "sequentialminus": [
            [
             0,
             "#0d0887"
            ],
            [
             0.1111111111111111,
             "#46039f"
            ],
            [
             0.2222222222222222,
             "#7201a8"
            ],
            [
             0.3333333333333333,
             "#9c179e"
            ],
            [
             0.4444444444444444,
             "#bd3786"
            ],
            [
             0.5555555555555556,
             "#d8576b"
            ],
            [
             0.6666666666666666,
             "#ed7953"
            ],
            [
             0.7777777777777778,
             "#fb9f3a"
            ],
            [
             0.8888888888888888,
             "#fdca26"
            ],
            [
             1,
             "#f0f921"
            ]
           ]
          },
          "colorway": [
           "#636efa",
           "#EF553B",
           "#00cc96",
           "#ab63fa",
           "#FFA15A",
           "#19d3f3",
           "#FF6692",
           "#B6E880",
           "#FF97FF",
           "#FECB52"
          ],
          "font": {
           "color": "#2a3f5f"
          },
          "geo": {
           "bgcolor": "white",
           "lakecolor": "white",
           "landcolor": "#E5ECF6",
           "showlakes": true,
           "showland": true,
           "subunitcolor": "white"
          },
          "hoverlabel": {
           "align": "left"
          },
          "hovermode": "closest",
          "mapbox": {
           "style": "light"
          },
          "paper_bgcolor": "white",
          "plot_bgcolor": "#E5ECF6",
          "polar": {
           "angularaxis": {
            "gridcolor": "white",
            "linecolor": "white",
            "ticks": ""
           },
           "bgcolor": "#E5ECF6",
           "radialaxis": {
            "gridcolor": "white",
            "linecolor": "white",
            "ticks": ""
           }
          },
          "scene": {
           "xaxis": {
            "backgroundcolor": "#E5ECF6",
            "gridcolor": "white",
            "gridwidth": 2,
            "linecolor": "white",
            "showbackground": true,
            "ticks": "",
            "zerolinecolor": "white"
           },
           "yaxis": {
            "backgroundcolor": "#E5ECF6",
            "gridcolor": "white",
            "gridwidth": 2,
            "linecolor": "white",
            "showbackground": true,
            "ticks": "",
            "zerolinecolor": "white"
           },
           "zaxis": {
            "backgroundcolor": "#E5ECF6",
            "gridcolor": "white",
            "gridwidth": 2,
            "linecolor": "white",
            "showbackground": true,
            "ticks": "",
            "zerolinecolor": "white"
           }
          },
          "shapedefaults": {
           "line": {
            "color": "#2a3f5f"
           }
          },
          "ternary": {
           "aaxis": {
            "gridcolor": "white",
            "linecolor": "white",
            "ticks": ""
           },
           "baxis": {
            "gridcolor": "white",
            "linecolor": "white",
            "ticks": ""
           },
           "bgcolor": "#E5ECF6",
           "caxis": {
            "gridcolor": "white",
            "linecolor": "white",
            "ticks": ""
           }
          },
          "title": {
           "x": 0.05
          },
          "xaxis": {
           "automargin": true,
           "gridcolor": "white",
           "linecolor": "white",
           "ticks": "",
           "title": {
            "standoff": 15
           },
           "zerolinecolor": "white",
           "zerolinewidth": 2
          },
          "yaxis": {
           "automargin": true,
           "gridcolor": "white",
           "linecolor": "white",
           "ticks": "",
           "title": {
            "standoff": 15
           },
           "zerolinecolor": "white",
           "zerolinewidth": 2
          }
         }
        },
        "width": 1000
       }
      }
     },
     "metadata": {},
     "output_type": "display_data"
    }
   ],
   "source": [
    "df_centroids = pd.DataFrame(kmeans.cluster_centers_, columns=rfm_cluster_s.iloc[:, :5].columns)\n",
    "df_centroids['size'] = rfm.groupby('kmeans')['고객ID'].count()\n",
    "\n",
    "import plotly.graph_objects as go\n",
    "\n",
    "def plot_radar_from_centroid(df_centroids):\n",
    "  df_centroids = df_centroids.drop(['size'], axis = 1)\n",
    "  fig = go.Figure()\n",
    "  categories = df_centroids.columns\n",
    "  for row in df_centroids.iterrows():\n",
    "    fig.add_trace(go.Scatterpolar(\n",
    "        r=row[1].tolist(),\n",
    "        theta=categories,\n",
    "        fill='toself',\n",
    "        name='cluster {}'.format(row[0])\n",
    "    ))\n",
    "\n",
    "  fig.update_layout(\n",
    "      autosize=False,\n",
    "      width=1000,\n",
    "      height=800,\n",
    "  )\n",
    "  fig.show()\n",
    "\n",
    "plot_radar_from_centroid(df_centroids)  "
   ]
  },
  {
   "cell_type": "code",
   "execution_count": 428,
   "metadata": {},
   "outputs": [
    {
     "data": {
      "text/plain": [
       "0.32828962205491274"
      ]
     },
     "execution_count": 428,
     "metadata": {},
     "output_type": "execute_result"
    }
   ],
   "source": [
    "from sklearn.metrics import silhouette_score, silhouette_samples\n",
    "\n",
    "silhouette_avg = silhouette_score(rfm_cluster_s.iloc[:, :5], kmeans.labels_)\n",
    "silhouette_avg"
   ]
  },
  {
   "cell_type": "code",
   "execution_count": 429,
   "metadata": {},
   "outputs": [
    {
     "name": "stdout",
     "output_type": "stream",
     "text": [
      "k = 3 -> silhouette index 0.3529815198260722\n",
      "k = 4 -> silhouette index 0.3732457524810157\n",
      "k = 5 -> silhouette index 0.3780058030896743\n",
      "k = 6 -> silhouette index 0.32608275787420254\n"
     ]
    },
    {
     "name": "stdout",
     "output_type": "stream",
     "text": [
      "k = 7 -> silhouette index 0.32980367100195995\n",
      "k = 8 -> silhouette index 0.2819979096957311\n"
     ]
    }
   ],
   "source": [
    "for k in range(3, 9):\n",
    "    kmeans = KMeans(n_clusters=k, random_state=0).fit(rfm_cluster_s.iloc[:, :5])\n",
    "    silhouette_avg = silhouette_score(rfm_cluster_s.iloc[:, :5], kmeans.labels_)\n",
    "    print(\"k = {} -> silhouette index {}\".format(k, silhouette_avg))"
   ]
  },
  {
   "cell_type": "code",
   "execution_count": 430,
   "metadata": {},
   "outputs": [
    {
     "data": {
      "text/html": [
       "<div>\n",
       "<style scoped>\n",
       "    .dataframe tbody tr th:only-of-type {\n",
       "        vertical-align: middle;\n",
       "    }\n",
       "\n",
       "    .dataframe tbody tr th {\n",
       "        vertical-align: top;\n",
       "    }\n",
       "\n",
       "    .dataframe thead th {\n",
       "        text-align: right;\n",
       "    }\n",
       "</style>\n",
       "<table border=\"1\" class=\"dataframe\">\n",
       "  <thead>\n",
       "    <tr style=\"text-align: right;\">\n",
       "      <th></th>\n",
       "      <th>고객ID</th>\n",
       "      <th>Recency</th>\n",
       "      <th>Frequency</th>\n",
       "      <th>Monetary</th>\n",
       "    </tr>\n",
       "    <tr>\n",
       "      <th>cluster_pca_result</th>\n",
       "      <th></th>\n",
       "      <th></th>\n",
       "      <th></th>\n",
       "      <th></th>\n",
       "    </tr>\n",
       "  </thead>\n",
       "  <tbody>\n",
       "    <tr>\n",
       "      <th>2</th>\n",
       "      <td>6</td>\n",
       "      <td>80.833333</td>\n",
       "      <td>270.666667</td>\n",
       "      <td>65739.449123</td>\n",
       "    </tr>\n",
       "    <tr>\n",
       "      <th>0</th>\n",
       "      <td>190</td>\n",
       "      <td>82.905263</td>\n",
       "      <td>54.310526</td>\n",
       "      <td>11655.267903</td>\n",
       "    </tr>\n",
       "    <tr>\n",
       "      <th>4</th>\n",
       "      <td>485</td>\n",
       "      <td>56.482474</td>\n",
       "      <td>13.507216</td>\n",
       "      <td>2587.410664</td>\n",
       "    </tr>\n",
       "    <tr>\n",
       "      <th>3</th>\n",
       "      <td>520</td>\n",
       "      <td>169.726923</td>\n",
       "      <td>11.334615</td>\n",
       "      <td>2049.280287</td>\n",
       "    </tr>\n",
       "    <tr>\n",
       "      <th>1</th>\n",
       "      <td>267</td>\n",
       "      <td>299.370787</td>\n",
       "      <td>8.400749</td>\n",
       "      <td>1752.439058</td>\n",
       "    </tr>\n",
       "  </tbody>\n",
       "</table>\n",
       "</div>"
      ],
      "text/plain": [
       "                    고객ID     Recency   Frequency      Monetary\n",
       "cluster_pca_result                                            \n",
       "2                      6   80.833333  270.666667  65739.449123\n",
       "0                    190   82.905263   54.310526  11655.267903\n",
       "4                    485   56.482474   13.507216   2587.410664\n",
       "3                    520  169.726923   11.334615   2049.280287\n",
       "1                    267  299.370787    8.400749   1752.439058"
      ]
     },
     "execution_count": 430,
     "metadata": {},
     "output_type": "execute_result"
    }
   ],
   "source": [
    "from sklearn.decomposition import PCA\n",
    "from sklearn.cluster import KMeans\n",
    "\n",
    "pca = PCA(n_components = 2)\n",
    "df_pca = pd.DataFrame(data=pca.fit_transform(rfm_cluster_s.iloc[:, :5]), columns=['pca1', 'pca2'])\n",
    "\n",
    "kmeans_pca = KMeans(n_clusters=5, random_state=42, init='k-means++').fit(df_pca)\n",
    "\n",
    "df_pca['cluster_pca_result'] = kmeans_pca.labels_\n",
    "rfm['cluster_pca_result'] = kmeans_pca.labels_\n",
    "\n",
    "rfm.groupby('cluster_pca_result')[['고객ID', 'Recency','Frequency','Monetary']].agg({'고객ID':'count', 'Recency':'mean', 'Frequency':'mean', 'Monetary':'mean'}).sort_values('Monetary', ascending=False)"
   ]
  },
  {
   "cell_type": "code",
   "execution_count": 431,
   "metadata": {},
   "outputs": [
    {
     "data": {
      "text/plain": [
       "<seaborn.axisgrid.FacetGrid at 0x1ea055e2dc0>"
      ]
     },
     "execution_count": 431,
     "metadata": {},
     "output_type": "execute_result"
    },
    {
     "data": {
      "image/png": "[encoded data removed]",
      "text/plain": [
       "<Figure size 619.736x500 with 1 Axes>"
      ]
     },
     "metadata": {},
     "output_type": "display_data"
    }
   ],
   "source": [
    "g = sns.FacetGrid(df_pca, hue=\"cluster_pca_result\", height = 5, margin_titles = True,\n",
    "                  palette = sns.color_palette(\"pastel\", 5))\n",
    "g.map_dataframe(plt.scatter, \"pca1\", \"pca2\")\n",
    "g.add_legend()\n",
    "g.fig.subplots_adjust(top=0.9)\n",
    "g.fig.suptitle(\"kmeans_pca - ecommerce\")\n",
    "g.set_xlabels(\"pca1\")\n",
    "g.set_ylabels(\"pca2\")"
   ]
  },
  {
   "cell_type": "markdown",
   "metadata": {},
   "source": [
    "### 2. t-SNE"
   ]
  },
  {
   "cell_type": "code",
   "execution_count": 432,
   "metadata": {},
   "outputs": [
    {
     "name": "stderr",
     "output_type": "stream",
     "text": [
      "d:\\Users\\dhwns\\anaconda3\\lib\\site-packages\\sklearn\\manifold\\_t_sne.py:780: FutureWarning:\n",
      "\n",
      "The default initialization in TSNE will change from 'random' to 'pca' in 1.2.\n",
      "\n",
      "d:\\Users\\dhwns\\anaconda3\\lib\\site-packages\\sklearn\\manifold\\_t_sne.py:790: FutureWarning:\n",
      "\n",
      "The default learning rate in TSNE will change from 200.0 to 'auto' in 1.2.\n",
      "\n"
     ]
    },
    {
     "data": {
      "text/plain": [
       "<seaborn.axisgrid.FacetGrid at 0x1ea03d563a0>"
      ]
     },
     "execution_count": 432,
     "metadata": {},
     "output_type": "execute_result"
    },
    {
     "data": {
      "image/png": "[encoded data removed]",
      "text/plain": [
       "<Figure size 953.625x800 with 1 Axes>"
      ]
     },
     "metadata": {},
     "output_type": "display_data"
    }
   ],
   "source": [
    "from sklearn.manifold import TSNE\n",
    "\n",
    "tsne = TSNE(n_components=2)\n",
    "\n",
    "df_ecommerce_tsne = pd.DataFrame(data = tsne.fit_transform(rfm_cluster_s.iloc[:, :5]), columns = ['col1', 'col2'])\n",
    "df_ecommerce_tsne['label'] = rfm_cluster_s['RFM']\n",
    "\n",
    "h = sns.FacetGrid(df_ecommerce_tsne, hue=\"label\", height = 8, margin_titles = True,\n",
    "                  palette = sns.color_palette())\n",
    "h.map_dataframe(plt.scatter, \"col1\", \"col2\")\n",
    "h.add_legend()\n",
    "h.fig.subplots_adjust(top=0.9)\n",
    "h.fig.suptitle(\"t-sne - ecommerce\")\n",
    "h.set_xlabels(\"X\")\n",
    "h.set_ylabels(\"Y\")"
   ]
  },
  {
   "cell_type": "code",
   "execution_count": 433,
   "metadata": {},
   "outputs": [
    {
     "name": "stderr",
     "output_type": "stream",
     "text": [
      "d:\\Users\\dhwns\\anaconda3\\lib\\site-packages\\sklearn\\manifold\\_t_sne.py:780: FutureWarning:\n",
      "\n",
      "The default initialization in TSNE will change from 'random' to 'pca' in 1.2.\n",
      "\n",
      "d:\\Users\\dhwns\\anaconda3\\lib\\site-packages\\sklearn\\manifold\\_t_sne.py:790: FutureWarning:\n",
      "\n",
      "The default learning rate in TSNE will change from 200.0 to 'auto' in 1.2.\n",
      "\n"
     ]
    },
    {
     "data": {
      "text/plain": [
       "<seaborn.axisgrid.FacetGrid at 0x1ea7934ac10>"
      ]
     },
     "execution_count": 433,
     "metadata": {},
     "output_type": "execute_result"
    },
    {
     "data": {
      "image/png": "[encoded data removed]",
      "text/plain": [
       "<Figure size 923.861x800 with 1 Axes>"
      ]
     },
     "metadata": {},
     "output_type": "display_data"
    }
   ],
   "source": [
    "\n",
    "\n",
    "tsne_2 = TSNE(n_components=2)\n",
    "\n",
    "df_ecommerce_tsne = pd.DataFrame(data = tsne.fit_transform(rfm_cluster_s.iloc[:, :5]), columns = ['col1', 'col2'])\n",
    "df_ecommerce_tsne['label'] = rfm_cluster_s['RFM']\n",
    "\n",
    "\n",
    "kmeans_tsne = KMeans(n_clusters=5, random_state=42, init='k-means++').fit(df_ecommerce_tsne[['col1', 'col2']])\n",
    "df_ecommerce_tsne['cluster_tsne_result'] = kmeans_tsne.labels_\n",
    "\n",
    "\n",
    "\n",
    "i = sns.FacetGrid(df_ecommerce_tsne, hue=\"cluster_tsne_result\", height = 8, margin_titles = True,\n",
    "                  palette = sns.color_palette())\n",
    "i.map_dataframe(plt.scatter, \"col1\", \"col2\")\n",
    "i.add_legend()\n",
    "i.fig.subplots_adjust(top=0.9)\n",
    "i.fig.suptitle(\"t-sne - ecommerce\")\n",
    "i.set_xlabels(\"col1\")\n",
    "i.set_ylabels(\"col2\")"
   ]
  },
  {
   "cell_type": "code",
   "execution_count": 434,
   "metadata": {},
   "outputs": [
    {
     "data": {
      "image/png": "[encoded data removed]",
      "text/plain": [
       "<Figure size 1500x1000 with 1 Axes>"
      ]
     },
     "metadata": {},
     "output_type": "display_data"
    }
   ],
   "source": [
    "from sklearn.cluster import AgglomerativeClustering\n",
    "from scipy.cluster.hierarchy import dendrogram, linkage\n",
    "\n",
    "dend_ecommerce = rfm_cluster_s.iloc[:, :5]\n",
    "\n",
    "plt.figure(figsize=(15,10))\n",
    "plt.title('Dendrogram')\n",
    "plt.xlabel('users')\n",
    "plt.ylabel('Euclidean distances')\n",
    "dgram = dendrogram(linkage(dend_ecommerce, method = 'ward'))\n",
    "plt.show()\n"
   ]
  },
  {
   "cell_type": "code",
   "execution_count": 435,
   "metadata": {},
   "outputs": [
    {
     "data": {
      "text/plain": [
       "array([1, 4, 0, ..., 0, 0, 4], dtype=int64)"
      ]
     },
     "execution_count": 435,
     "metadata": {},
     "output_type": "execute_result"
    }
   ],
   "source": [
    "ecommerce_clustering = AgglomerativeClustering(n_clusters = 5, affinity = 'euclidean', linkage = 'ward')\n",
    "ecommerce_label = ecommerce_clustering.fit_predict(dend_ecommerce)\n",
    "ecommerce_label"
   ]
  },
  {
   "cell_type": "code",
   "execution_count": 436,
   "metadata": {},
   "outputs": [
    {
     "data": {
      "text/plain": [
       "<seaborn.axisgrid.FacetGrid at 0x1ea05301b80>"
      ]
     },
     "execution_count": 436,
     "metadata": {},
     "output_type": "execute_result"
    },
    {
     "data": {
      "image/png": "[encoded data removed]",
      "text/plain": [
       "<Figure size 867.986x800 with 1 Axes>"
      ]
     },
     "metadata": {},
     "output_type": "display_data"
    }
   ],
   "source": [
    "rfm['hierarchy'] = ecommerce_label\n",
    "\n",
    "j = sns.FacetGrid(rfm, hue=\"hierarchy\", height = 8, margin_titles = True,\n",
    "                  palette = sns.color_palette())\n",
    "j.map_dataframe(plt.scatter, \"Frequency\", \"Monetary\")\n",
    "j.add_legend()\n",
    "j.fig.subplots_adjust(top=0.9)\n",
    "j.fig.suptitle(\"hierarchy - ecommerce\")\n",
    "j.set_xlabels(\"Frequency\")\n",
    "j.set_ylabels(\"Monetary\")"
   ]
  },
  {
   "cell_type": "code",
   "execution_count": 437,
   "metadata": {},
   "outputs": [
    {
     "data": {
      "text/plain": [
       "<seaborn.axisgrid.FacetGrid at 0x1ea0544b6a0>"
      ]
     },
     "execution_count": 437,
     "metadata": {},
     "output_type": "execute_result"
    },
    {
     "data": {
      "image/png": "[encoded data removed]",
      "text/plain": [
       "<Figure size 865.25x800 with 1 Axes>"
      ]
     },
     "metadata": {},
     "output_type": "display_data"
    }
   ],
   "source": [
    "from sklearn.cluster import DBSCAN\n",
    "\n",
    "\n",
    "\n",
    "dbscan = DBSCAN(eps=0.1, min_samples=4).fit(df_pca[['pca1', 'pca2']])\n",
    "y_pred = dbscan.labels_\n",
    "\n",
    "df_pca['labels'] = y_pred\n",
    "\n",
    "j = sns.FacetGrid(df_pca, hue=\"labels\", height = 8, margin_titles = True,\n",
    "                  palette = sns.color_palette())\n",
    "j.map_dataframe(plt.scatter, \"pca1\", \"pca2\")\n",
    "j.add_legend()\n",
    "j.fig.subplots_adjust(top=0.9)\n",
    "j.fig.suptitle(\"DBSCAN - ecommerce\")\n",
    "j.set_xlabels(\"pca1\")\n",
    "j.set_ylabels(\"pca2\")"
   ]
  },
  {
   "cell_type": "markdown",
   "metadata": {},
   "source": [
    "### EDA"
   ]
  },
  {
   "cell_type": "code",
   "execution_count": 438,
   "metadata": {},
   "outputs": [],
   "source": [
    "##### 비즈니스 인사이트 테이블"
   ]
  },
  {
   "cell_type": "code",
   "execution_count": 439,
   "metadata": {},
   "outputs": [
    {
     "data": {
      "text/html": [
       "<div>\n",
       "<style scoped>\n",
       "    .dataframe tbody tr th:only-of-type {\n",
       "        vertical-align: middle;\n",
       "    }\n",
       "\n",
       "    .dataframe tbody tr th {\n",
       "        vertical-align: top;\n",
       "    }\n",
       "\n",
       "    .dataframe thead th {\n",
       "        text-align: right;\n",
       "    }\n",
       "</style>\n",
       "<table border=\"1\" class=\"dataframe\">\n",
       "  <thead>\n",
       "    <tr style=\"text-align: right;\">\n",
       "      <th></th>\n",
       "      <th>고객ID</th>\n",
       "      <th>거래ID</th>\n",
       "      <th>거래날짜</th>\n",
       "      <th>제품ID</th>\n",
       "      <th>제품카테고리</th>\n",
       "      <th>수량</th>\n",
       "      <th>평균금액</th>\n",
       "      <th>배송료</th>\n",
       "      <th>쿠폰상태</th>\n",
       "      <th>성별</th>\n",
       "      <th>고객지역</th>\n",
       "      <th>가입기간</th>\n",
       "      <th>GST</th>\n",
       "      <th>월</th>\n",
       "      <th>쿠폰코드</th>\n",
       "      <th>할인율</th>\n",
       "      <th>오프라인비용</th>\n",
       "      <th>온라인비용</th>\n",
       "      <th>true_discount</th>\n",
       "      <th>총금액</th>\n",
       "    </tr>\n",
       "  </thead>\n",
       "  <tbody>\n",
       "    <tr>\n",
       "      <th>0</th>\n",
       "      <td>USER_1358</td>\n",
       "      <td>Transaction_0000</td>\n",
       "      <td>2019-01-01</td>\n",
       "      <td>Product_0981</td>\n",
       "      <td>Nest-USA</td>\n",
       "      <td>1</td>\n",
       "      <td>153.71</td>\n",
       "      <td>6.5</td>\n",
       "      <td>Used</td>\n",
       "      <td>남</td>\n",
       "      <td>Chicago</td>\n",
       "      <td>12</td>\n",
       "      <td>0.10</td>\n",
       "      <td>Jan</td>\n",
       "      <td>ELEC10</td>\n",
       "      <td>10.0</td>\n",
       "      <td>4500</td>\n",
       "      <td>2424.5</td>\n",
       "      <td>1</td>\n",
       "      <td>158.6729</td>\n",
       "    </tr>\n",
       "    <tr>\n",
       "      <th>1</th>\n",
       "      <td>USER_1358</td>\n",
       "      <td>Transaction_0001</td>\n",
       "      <td>2019-01-01</td>\n",
       "      <td>Product_0981</td>\n",
       "      <td>Nest-USA</td>\n",
       "      <td>1</td>\n",
       "      <td>153.71</td>\n",
       "      <td>6.5</td>\n",
       "      <td>Used</td>\n",
       "      <td>남</td>\n",
       "      <td>Chicago</td>\n",
       "      <td>12</td>\n",
       "      <td>0.10</td>\n",
       "      <td>Jan</td>\n",
       "      <td>ELEC10</td>\n",
       "      <td>10.0</td>\n",
       "      <td>4500</td>\n",
       "      <td>2424.5</td>\n",
       "      <td>1</td>\n",
       "      <td>158.6729</td>\n",
       "    </tr>\n",
       "    <tr>\n",
       "      <th>2</th>\n",
       "      <td>USER_1358</td>\n",
       "      <td>Transaction_0002</td>\n",
       "      <td>2019-01-01</td>\n",
       "      <td>Product_0904</td>\n",
       "      <td>Office</td>\n",
       "      <td>1</td>\n",
       "      <td>2.05</td>\n",
       "      <td>6.5</td>\n",
       "      <td>Used</td>\n",
       "      <td>남</td>\n",
       "      <td>Chicago</td>\n",
       "      <td>12</td>\n",
       "      <td>0.10</td>\n",
       "      <td>Jan</td>\n",
       "      <td>OFF10</td>\n",
       "      <td>10.0</td>\n",
       "      <td>4500</td>\n",
       "      <td>2424.5</td>\n",
       "      <td>1</td>\n",
       "      <td>8.5295</td>\n",
       "    </tr>\n",
       "    <tr>\n",
       "      <th>3</th>\n",
       "      <td>USER_1358</td>\n",
       "      <td>Transaction_0003</td>\n",
       "      <td>2019-01-01</td>\n",
       "      <td>Product_0203</td>\n",
       "      <td>Apparel</td>\n",
       "      <td>5</td>\n",
       "      <td>17.53</td>\n",
       "      <td>6.5</td>\n",
       "      <td>Not Used</td>\n",
       "      <td>남</td>\n",
       "      <td>Chicago</td>\n",
       "      <td>12</td>\n",
       "      <td>0.18</td>\n",
       "      <td>Jan</td>\n",
       "      <td>SALE10</td>\n",
       "      <td>10.0</td>\n",
       "      <td>4500</td>\n",
       "      <td>2424.5</td>\n",
       "      <td>0</td>\n",
       "      <td>109.9270</td>\n",
       "    </tr>\n",
       "    <tr>\n",
       "      <th>4</th>\n",
       "      <td>USER_1358</td>\n",
       "      <td>Transaction_0003</td>\n",
       "      <td>2019-01-01</td>\n",
       "      <td>Product_0848</td>\n",
       "      <td>Bags</td>\n",
       "      <td>1</td>\n",
       "      <td>16.50</td>\n",
       "      <td>6.5</td>\n",
       "      <td>Used</td>\n",
       "      <td>남</td>\n",
       "      <td>Chicago</td>\n",
       "      <td>12</td>\n",
       "      <td>0.18</td>\n",
       "      <td>Jan</td>\n",
       "      <td>AIO10</td>\n",
       "      <td>10.0</td>\n",
       "      <td>4500</td>\n",
       "      <td>2424.5</td>\n",
       "      <td>1</td>\n",
       "      <td>24.0230</td>\n",
       "    </tr>\n",
       "  </tbody>\n",
       "</table>\n",
       "</div>"
      ],
      "text/plain": [
       "        고객ID              거래ID       거래날짜          제품ID    제품카테고리  수량    평균금액  \\\n",
       "0  USER_1358  Transaction_0000 2019-01-01  Product_0981  Nest-USA   1  153.71   \n",
       "1  USER_1358  Transaction_0001 2019-01-01  Product_0981  Nest-USA   1  153.71   \n",
       "2  USER_1358  Transaction_0002 2019-01-01  Product_0904    Office   1    2.05   \n",
       "3  USER_1358  Transaction_0003 2019-01-01  Product_0203   Apparel   5   17.53   \n",
       "4  USER_1358  Transaction_0003 2019-01-01  Product_0848      Bags   1   16.50   \n",
       "\n",
       "   배송료      쿠폰상태 성별     고객지역  가입기간   GST    월    쿠폰코드   할인율  오프라인비용   온라인비용  \\\n",
       "0  6.5      Used  남  Chicago    12  0.10  Jan  ELEC10  10.0    4500  2424.5   \n",
       "1  6.5      Used  남  Chicago    12  0.10  Jan  ELEC10  10.0    4500  2424.5   \n",
       "2  6.5      Used  남  Chicago    12  0.10  Jan   OFF10  10.0    4500  2424.5   \n",
       "3  6.5  Not Used  남  Chicago    12  0.18  Jan  SALE10  10.0    4500  2424.5   \n",
       "4  6.5      Used  남  Chicago    12  0.18  Jan   AIO10  10.0    4500  2424.5   \n",
       "\n",
       "   true_discount       총금액  \n",
       "0              1  158.6729  \n",
       "1              1  158.6729  \n",
       "2              1    8.5295  \n",
       "3              0  109.9270  \n",
       "4              1   24.0230  "
      ]
     },
     "execution_count": 439,
     "metadata": {},
     "output_type": "execute_result"
    }
   ],
   "source": [
    "#### ROAS 지표\n",
    "\n",
    "df.head()"
   ]
  },
  {
   "cell_type": "code",
   "execution_count": 440,
   "metadata": {},
   "outputs": [
    {
     "data": {
      "text/html": [
       "<div>\n",
       "<style scoped>\n",
       "    .dataframe tbody tr th:only-of-type {\n",
       "        vertical-align: middle;\n",
       "    }\n",
       "\n",
       "    .dataframe tbody tr th {\n",
       "        vertical-align: top;\n",
       "    }\n",
       "\n",
       "    .dataframe thead th {\n",
       "        text-align: right;\n",
       "    }\n",
       "</style>\n",
       "<table border=\"1\" class=\"dataframe\">\n",
       "  <thead>\n",
       "    <tr style=\"text-align: right;\">\n",
       "      <th></th>\n",
       "      <th>고객ID</th>\n",
       "      <th>거래ID</th>\n",
       "      <th>거래날짜</th>\n",
       "      <th>제품ID</th>\n",
       "      <th>제품카테고리</th>\n",
       "      <th>수량</th>\n",
       "      <th>평균금액</th>\n",
       "      <th>배송료</th>\n",
       "      <th>쿠폰상태</th>\n",
       "      <th>성별</th>\n",
       "      <th>...</th>\n",
       "      <th>GST</th>\n",
       "      <th>월</th>\n",
       "      <th>쿠폰코드</th>\n",
       "      <th>할인율</th>\n",
       "      <th>오프라인비용</th>\n",
       "      <th>온라인비용</th>\n",
       "      <th>true_discount</th>\n",
       "      <th>총금액</th>\n",
       "      <th>총마케팅비용</th>\n",
       "      <th>ma_total_marketing</th>\n",
       "    </tr>\n",
       "  </thead>\n",
       "  <tbody>\n",
       "    <tr>\n",
       "      <th>0</th>\n",
       "      <td>USER_1358</td>\n",
       "      <td>Transaction_0000</td>\n",
       "      <td>2019-01-01</td>\n",
       "      <td>Product_0981</td>\n",
       "      <td>Nest-USA</td>\n",
       "      <td>1</td>\n",
       "      <td>153.71</td>\n",
       "      <td>6.50</td>\n",
       "      <td>Used</td>\n",
       "      <td>남</td>\n",
       "      <td>...</td>\n",
       "      <td>0.10</td>\n",
       "      <td>Jan</td>\n",
       "      <td>ELEC10</td>\n",
       "      <td>10.0</td>\n",
       "      <td>4500</td>\n",
       "      <td>2424.50</td>\n",
       "      <td>1</td>\n",
       "      <td>158.67290</td>\n",
       "      <td>6924.50</td>\n",
       "      <td>6924.50</td>\n",
       "    </tr>\n",
       "    <tr>\n",
       "      <th>1</th>\n",
       "      <td>USER_1358</td>\n",
       "      <td>Transaction_0001</td>\n",
       "      <td>2019-01-01</td>\n",
       "      <td>Product_0981</td>\n",
       "      <td>Nest-USA</td>\n",
       "      <td>1</td>\n",
       "      <td>153.71</td>\n",
       "      <td>6.50</td>\n",
       "      <td>Used</td>\n",
       "      <td>남</td>\n",
       "      <td>...</td>\n",
       "      <td>0.10</td>\n",
       "      <td>Jan</td>\n",
       "      <td>ELEC10</td>\n",
       "      <td>10.0</td>\n",
       "      <td>4500</td>\n",
       "      <td>2424.50</td>\n",
       "      <td>1</td>\n",
       "      <td>158.67290</td>\n",
       "      <td>6924.50</td>\n",
       "      <td>6924.50</td>\n",
       "    </tr>\n",
       "    <tr>\n",
       "      <th>2</th>\n",
       "      <td>USER_1358</td>\n",
       "      <td>Transaction_0002</td>\n",
       "      <td>2019-01-01</td>\n",
       "      <td>Product_0904</td>\n",
       "      <td>Office</td>\n",
       "      <td>1</td>\n",
       "      <td>2.05</td>\n",
       "      <td>6.50</td>\n",
       "      <td>Used</td>\n",
       "      <td>남</td>\n",
       "      <td>...</td>\n",
       "      <td>0.10</td>\n",
       "      <td>Jan</td>\n",
       "      <td>OFF10</td>\n",
       "      <td>10.0</td>\n",
       "      <td>4500</td>\n",
       "      <td>2424.50</td>\n",
       "      <td>1</td>\n",
       "      <td>8.52950</td>\n",
       "      <td>6924.50</td>\n",
       "      <td>6924.50</td>\n",
       "    </tr>\n",
       "    <tr>\n",
       "      <th>3</th>\n",
       "      <td>USER_1358</td>\n",
       "      <td>Transaction_0003</td>\n",
       "      <td>2019-01-01</td>\n",
       "      <td>Product_0203</td>\n",
       "      <td>Apparel</td>\n",
       "      <td>5</td>\n",
       "      <td>17.53</td>\n",
       "      <td>6.50</td>\n",
       "      <td>Not Used</td>\n",
       "      <td>남</td>\n",
       "      <td>...</td>\n",
       "      <td>0.18</td>\n",
       "      <td>Jan</td>\n",
       "      <td>SALE10</td>\n",
       "      <td>10.0</td>\n",
       "      <td>4500</td>\n",
       "      <td>2424.50</td>\n",
       "      <td>0</td>\n",
       "      <td>109.92700</td>\n",
       "      <td>6924.50</td>\n",
       "      <td>6924.50</td>\n",
       "    </tr>\n",
       "    <tr>\n",
       "      <th>4</th>\n",
       "      <td>USER_1358</td>\n",
       "      <td>Transaction_0003</td>\n",
       "      <td>2019-01-01</td>\n",
       "      <td>Product_0848</td>\n",
       "      <td>Bags</td>\n",
       "      <td>1</td>\n",
       "      <td>16.50</td>\n",
       "      <td>6.50</td>\n",
       "      <td>Used</td>\n",
       "      <td>남</td>\n",
       "      <td>...</td>\n",
       "      <td>0.18</td>\n",
       "      <td>Jan</td>\n",
       "      <td>AIO10</td>\n",
       "      <td>10.0</td>\n",
       "      <td>4500</td>\n",
       "      <td>2424.50</td>\n",
       "      <td>1</td>\n",
       "      <td>24.02300</td>\n",
       "      <td>6924.50</td>\n",
       "      <td>6924.50</td>\n",
       "    </tr>\n",
       "    <tr>\n",
       "      <th>...</th>\n",
       "      <td>...</td>\n",
       "      <td>...</td>\n",
       "      <td>...</td>\n",
       "      <td>...</td>\n",
       "      <td>...</td>\n",
       "      <td>...</td>\n",
       "      <td>...</td>\n",
       "      <td>...</td>\n",
       "      <td>...</td>\n",
       "      <td>...</td>\n",
       "      <td>...</td>\n",
       "      <td>...</td>\n",
       "      <td>...</td>\n",
       "      <td>...</td>\n",
       "      <td>...</td>\n",
       "      <td>...</td>\n",
       "      <td>...</td>\n",
       "      <td>...</td>\n",
       "      <td>...</td>\n",
       "      <td>...</td>\n",
       "      <td>...</td>\n",
       "    </tr>\n",
       "    <tr>\n",
       "      <th>52919</th>\n",
       "      <td>USER_0504</td>\n",
       "      <td>Transaction_25056</td>\n",
       "      <td>2019-12-31</td>\n",
       "      <td>Product_0976</td>\n",
       "      <td>Nest-USA</td>\n",
       "      <td>1</td>\n",
       "      <td>121.30</td>\n",
       "      <td>6.50</td>\n",
       "      <td>Clicked</td>\n",
       "      <td>여</td>\n",
       "      <td>...</td>\n",
       "      <td>0.10</td>\n",
       "      <td>Dec</td>\n",
       "      <td>ELEC30</td>\n",
       "      <td>30.0</td>\n",
       "      <td>4000</td>\n",
       "      <td>2058.75</td>\n",
       "      <td>0</td>\n",
       "      <td>139.93000</td>\n",
       "      <td>6058.75</td>\n",
       "      <td>6058.75</td>\n",
       "    </tr>\n",
       "    <tr>\n",
       "      <th>52920</th>\n",
       "      <td>USER_0504</td>\n",
       "      <td>Transaction_25057</td>\n",
       "      <td>2019-12-31</td>\n",
       "      <td>Product_0413</td>\n",
       "      <td>Apparel</td>\n",
       "      <td>1</td>\n",
       "      <td>48.92</td>\n",
       "      <td>6.50</td>\n",
       "      <td>Used</td>\n",
       "      <td>여</td>\n",
       "      <td>...</td>\n",
       "      <td>0.18</td>\n",
       "      <td>Dec</td>\n",
       "      <td>SALE30</td>\n",
       "      <td>30.0</td>\n",
       "      <td>4000</td>\n",
       "      <td>2058.75</td>\n",
       "      <td>1</td>\n",
       "      <td>46.90792</td>\n",
       "      <td>6058.75</td>\n",
       "      <td>6058.75</td>\n",
       "    </tr>\n",
       "    <tr>\n",
       "      <th>52921</th>\n",
       "      <td>USER_0504</td>\n",
       "      <td>Transaction_25058</td>\n",
       "      <td>2019-12-31</td>\n",
       "      <td>Product_0989</td>\n",
       "      <td>Nest-USA</td>\n",
       "      <td>1</td>\n",
       "      <td>151.88</td>\n",
       "      <td>6.50</td>\n",
       "      <td>Used</td>\n",
       "      <td>여</td>\n",
       "      <td>...</td>\n",
       "      <td>0.10</td>\n",
       "      <td>Dec</td>\n",
       "      <td>ELEC30</td>\n",
       "      <td>30.0</td>\n",
       "      <td>4000</td>\n",
       "      <td>2058.75</td>\n",
       "      <td>1</td>\n",
       "      <td>123.44760</td>\n",
       "      <td>6058.75</td>\n",
       "      <td>6058.75</td>\n",
       "    </tr>\n",
       "    <tr>\n",
       "      <th>52922</th>\n",
       "      <td>USER_0562</td>\n",
       "      <td>Transaction_25059</td>\n",
       "      <td>2019-12-31</td>\n",
       "      <td>Product_0985</td>\n",
       "      <td>Nest-USA</td>\n",
       "      <td>5</td>\n",
       "      <td>80.52</td>\n",
       "      <td>6.50</td>\n",
       "      <td>Clicked</td>\n",
       "      <td>여</td>\n",
       "      <td>...</td>\n",
       "      <td>0.10</td>\n",
       "      <td>Dec</td>\n",
       "      <td>ELEC30</td>\n",
       "      <td>30.0</td>\n",
       "      <td>4000</td>\n",
       "      <td>2058.75</td>\n",
       "      <td>0</td>\n",
       "      <td>449.36000</td>\n",
       "      <td>6058.75</td>\n",
       "      <td>6058.75</td>\n",
       "    </tr>\n",
       "    <tr>\n",
       "      <th>52923</th>\n",
       "      <td>USER_0562</td>\n",
       "      <td>Transaction_25060</td>\n",
       "      <td>2019-12-31</td>\n",
       "      <td>Product_0984</td>\n",
       "      <td>Nest-USA</td>\n",
       "      <td>4</td>\n",
       "      <td>80.52</td>\n",
       "      <td>19.99</td>\n",
       "      <td>Clicked</td>\n",
       "      <td>여</td>\n",
       "      <td>...</td>\n",
       "      <td>0.10</td>\n",
       "      <td>Dec</td>\n",
       "      <td>ELEC30</td>\n",
       "      <td>30.0</td>\n",
       "      <td>4000</td>\n",
       "      <td>2058.75</td>\n",
       "      <td>0</td>\n",
       "      <td>374.27800</td>\n",
       "      <td>6058.75</td>\n",
       "      <td>6058.75</td>\n",
       "    </tr>\n",
       "  </tbody>\n",
       "</table>\n",
       "<p>52924 rows × 22 columns</p>\n",
       "</div>"
      ],
      "text/plain": [
       "            고객ID               거래ID       거래날짜          제품ID    제품카테고리  수량  \\\n",
       "0      USER_1358   Transaction_0000 2019-01-01  Product_0981  Nest-USA   1   \n",
       "1      USER_1358   Transaction_0001 2019-01-01  Product_0981  Nest-USA   1   \n",
       "2      USER_1358   Transaction_0002 2019-01-01  Product_0904    Office   1   \n",
       "3      USER_1358   Transaction_0003 2019-01-01  Product_0203   Apparel   5   \n",
       "4      USER_1358   Transaction_0003 2019-01-01  Product_0848      Bags   1   \n",
       "...          ...                ...        ...           ...       ...  ..   \n",
       "52919  USER_0504  Transaction_25056 2019-12-31  Product_0976  Nest-USA   1   \n",
       "52920  USER_0504  Transaction_25057 2019-12-31  Product_0413   Apparel   1   \n",
       "52921  USER_0504  Transaction_25058 2019-12-31  Product_0989  Nest-USA   1   \n",
       "52922  USER_0562  Transaction_25059 2019-12-31  Product_0985  Nest-USA   5   \n",
       "52923  USER_0562  Transaction_25060 2019-12-31  Product_0984  Nest-USA   4   \n",
       "\n",
       "         평균금액    배송료      쿠폰상태 성별  ...   GST    월    쿠폰코드   할인율 오프라인비용  \\\n",
       "0      153.71   6.50      Used  남  ...  0.10  Jan  ELEC10  10.0   4500   \n",
       "1      153.71   6.50      Used  남  ...  0.10  Jan  ELEC10  10.0   4500   \n",
       "2        2.05   6.50      Used  남  ...  0.10  Jan   OFF10  10.0   4500   \n",
       "3       17.53   6.50  Not Used  남  ...  0.18  Jan  SALE10  10.0   4500   \n",
       "4       16.50   6.50      Used  남  ...  0.18  Jan   AIO10  10.0   4500   \n",
       "...       ...    ...       ... ..  ...   ...  ...     ...   ...    ...   \n",
       "52919  121.30   6.50   Clicked  여  ...  0.10  Dec  ELEC30  30.0   4000   \n",
       "52920   48.92   6.50      Used  여  ...  0.18  Dec  SALE30  30.0   4000   \n",
       "52921  151.88   6.50      Used  여  ...  0.10  Dec  ELEC30  30.0   4000   \n",
       "52922   80.52   6.50   Clicked  여  ...  0.10  Dec  ELEC30  30.0   4000   \n",
       "52923   80.52  19.99   Clicked  여  ...  0.10  Dec  ELEC30  30.0   4000   \n",
       "\n",
       "         온라인비용  true_discount        총금액   총마케팅비용  ma_total_marketing  \n",
       "0      2424.50              1  158.67290  6924.50             6924.50  \n",
       "1      2424.50              1  158.67290  6924.50             6924.50  \n",
       "2      2424.50              1    8.52950  6924.50             6924.50  \n",
       "3      2424.50              0  109.92700  6924.50             6924.50  \n",
       "4      2424.50              1   24.02300  6924.50             6924.50  \n",
       "...        ...            ...        ...      ...                 ...  \n",
       "52919  2058.75              0  139.93000  6058.75             6058.75  \n",
       "52920  2058.75              1   46.90792  6058.75             6058.75  \n",
       "52921  2058.75              1  123.44760  6058.75             6058.75  \n",
       "52922  2058.75              0  449.36000  6058.75             6058.75  \n",
       "52923  2058.75              0  374.27800  6058.75             6058.75  \n",
       "\n",
       "[52924 rows x 22 columns]"
      ]
     },
     "execution_count": 440,
     "metadata": {},
     "output_type": "execute_result"
    }
   ],
   "source": [
    "df['총마케팅비용'] = df['오프라인비용'] + df['온라인비용']\n",
    "df['ma_total_marketing'] = df['총마케팅비용'].rolling(7).mean().fillna(method='bfill')\n",
    "df"
   ]
  },
  {
   "cell_type": "code",
   "execution_count": 441,
   "metadata": {},
   "outputs": [
    {
     "data": {
      "text/html": [
       "<div>\n",
       "<style scoped>\n",
       "    .dataframe tbody tr th:only-of-type {\n",
       "        vertical-align: middle;\n",
       "    }\n",
       "\n",
       "    .dataframe tbody tr th {\n",
       "        vertical-align: top;\n",
       "    }\n",
       "\n",
       "    .dataframe thead th {\n",
       "        text-align: right;\n",
       "    }\n",
       "</style>\n",
       "<table border=\"1\" class=\"dataframe\">\n",
       "  <thead>\n",
       "    <tr style=\"text-align: right;\">\n",
       "      <th></th>\n",
       "      <th>거래날짜</th>\n",
       "      <th>총마케팅비용</th>\n",
       "      <th>총마케팅비용(7일ma)</th>\n",
       "    </tr>\n",
       "  </thead>\n",
       "  <tbody>\n",
       "    <tr>\n",
       "      <th>0</th>\n",
       "      <td>2019-01-01</td>\n",
       "      <td>6924.50</td>\n",
       "      <td>7477.351429</td>\n",
       "    </tr>\n",
       "    <tr>\n",
       "      <th>1</th>\n",
       "      <td>2019-01-02</td>\n",
       "      <td>7980.36</td>\n",
       "      <td>7477.351429</td>\n",
       "    </tr>\n",
       "    <tr>\n",
       "      <th>2</th>\n",
       "      <td>2019-01-03</td>\n",
       "      <td>6076.38</td>\n",
       "      <td>7477.351429</td>\n",
       "    </tr>\n",
       "    <tr>\n",
       "      <th>3</th>\n",
       "      <td>2019-01-04</td>\n",
       "      <td>7428.55</td>\n",
       "      <td>7477.351429</td>\n",
       "    </tr>\n",
       "    <tr>\n",
       "      <th>4</th>\n",
       "      <td>2019-01-05</td>\n",
       "      <td>8555.30</td>\n",
       "      <td>7477.351429</td>\n",
       "    </tr>\n",
       "    <tr>\n",
       "      <th>...</th>\n",
       "      <td>...</td>\n",
       "      <td>...</td>\n",
       "      <td>...</td>\n",
       "    </tr>\n",
       "    <tr>\n",
       "      <th>360</th>\n",
       "      <td>2019-12-27</td>\n",
       "      <td>7396.87</td>\n",
       "      <td>6754.795714</td>\n",
       "    </tr>\n",
       "    <tr>\n",
       "      <th>361</th>\n",
       "      <td>2019-12-28</td>\n",
       "      <td>7246.84</td>\n",
       "      <td>6702.525714</td>\n",
       "    </tr>\n",
       "    <tr>\n",
       "      <th>362</th>\n",
       "      <td>2019-12-29</td>\n",
       "      <td>6546.58</td>\n",
       "      <td>6664.971429</td>\n",
       "    </tr>\n",
       "    <tr>\n",
       "      <th>363</th>\n",
       "      <td>2019-12-30</td>\n",
       "      <td>4674.31</td>\n",
       "      <td>6375.631429</td>\n",
       "    </tr>\n",
       "    <tr>\n",
       "      <th>364</th>\n",
       "      <td>2019-12-31</td>\n",
       "      <td>6058.75</td>\n",
       "      <td>6134.101429</td>\n",
       "    </tr>\n",
       "  </tbody>\n",
       "</table>\n",
       "<p>365 rows × 3 columns</p>\n",
       "</div>"
      ],
      "text/plain": [
       "          거래날짜   총마케팅비용  총마케팅비용(7일ma)\n",
       "0   2019-01-01  6924.50   7477.351429\n",
       "1   2019-01-02  7980.36   7477.351429\n",
       "2   2019-01-03  6076.38   7477.351429\n",
       "3   2019-01-04  7428.55   7477.351429\n",
       "4   2019-01-05  8555.30   7477.351429\n",
       "..         ...      ...           ...\n",
       "360 2019-12-27  7396.87   6754.795714\n",
       "361 2019-12-28  7246.84   6702.525714\n",
       "362 2019-12-29  6546.58   6664.971429\n",
       "363 2019-12-30  4674.31   6375.631429\n",
       "364 2019-12-31  6058.75   6134.101429\n",
       "\n",
       "[365 rows x 3 columns]"
      ]
     },
     "execution_count": 441,
     "metadata": {},
     "output_type": "execute_result"
    }
   ],
   "source": [
    "marketing = df[['거래날짜', '총마케팅비용']].drop_duplicates().reset_index(drop=True)\n",
    "\n",
    "marketing2 = df[['거래날짜', '총마케팅비용']].drop_duplicates().reset_index(drop=True)\n",
    "marketing2['ma_total_marketing'] = marketing2['총마케팅비용'].rolling(7).mean().fillna(method='bfill')\n",
    "marketing2 = marketing2.rename(columns={'ma_total_marketing':'총마케팅비용(7일ma)'})\n",
    "marketing2"
   ]
  },
  {
   "cell_type": "code",
   "execution_count": 442,
   "metadata": {},
   "outputs": [
    {
     "data": {
      "text/html": [
       "<div>\n",
       "<style scoped>\n",
       "    .dataframe tbody tr th:only-of-type {\n",
       "        vertical-align: middle;\n",
       "    }\n",
       "\n",
       "    .dataframe tbody tr th {\n",
       "        vertical-align: top;\n",
       "    }\n",
       "\n",
       "    .dataframe thead th {\n",
       "        text-align: right;\n",
       "    }\n",
       "</style>\n",
       "<table border=\"1\" class=\"dataframe\">\n",
       "  <thead>\n",
       "    <tr style=\"text-align: right;\">\n",
       "      <th></th>\n",
       "      <th>거래날짜</th>\n",
       "      <th>총금액</th>\n",
       "    </tr>\n",
       "  </thead>\n",
       "  <tbody>\n",
       "    <tr>\n",
       "      <th>0</th>\n",
       "      <td>2019-01-01</td>\n",
       "      <td>9039.42048</td>\n",
       "    </tr>\n",
       "    <tr>\n",
       "      <th>1</th>\n",
       "      <td>2019-01-02</td>\n",
       "      <td>15269.39436</td>\n",
       "    </tr>\n",
       "    <tr>\n",
       "      <th>2</th>\n",
       "      <td>2019-01-03</td>\n",
       "      <td>29145.65155</td>\n",
       "    </tr>\n",
       "    <tr>\n",
       "      <th>3</th>\n",
       "      <td>2019-01-04</td>\n",
       "      <td>19500.23722</td>\n",
       "    </tr>\n",
       "    <tr>\n",
       "      <th>4</th>\n",
       "      <td>2019-01-05</td>\n",
       "      <td>21260.25480</td>\n",
       "    </tr>\n",
       "    <tr>\n",
       "      <th>...</th>\n",
       "      <td>...</td>\n",
       "      <td>...</td>\n",
       "    </tr>\n",
       "    <tr>\n",
       "      <th>360</th>\n",
       "      <td>2019-12-27</td>\n",
       "      <td>14371.81383</td>\n",
       "    </tr>\n",
       "    <tr>\n",
       "      <th>361</th>\n",
       "      <td>2019-12-28</td>\n",
       "      <td>11192.15088</td>\n",
       "    </tr>\n",
       "    <tr>\n",
       "      <th>362</th>\n",
       "      <td>2019-12-29</td>\n",
       "      <td>12299.47787</td>\n",
       "    </tr>\n",
       "    <tr>\n",
       "      <th>363</th>\n",
       "      <td>2019-12-30</td>\n",
       "      <td>8440.30569</td>\n",
       "    </tr>\n",
       "    <tr>\n",
       "      <th>364</th>\n",
       "      <td>2019-12-31</td>\n",
       "      <td>10798.25474</td>\n",
       "    </tr>\n",
       "  </tbody>\n",
       "</table>\n",
       "<p>365 rows × 2 columns</p>\n",
       "</div>"
      ],
      "text/plain": [
       "          거래날짜          총금액\n",
       "0   2019-01-01   9039.42048\n",
       "1   2019-01-02  15269.39436\n",
       "2   2019-01-03  29145.65155\n",
       "3   2019-01-04  19500.23722\n",
       "4   2019-01-05  21260.25480\n",
       "..         ...          ...\n",
       "360 2019-12-27  14371.81383\n",
       "361 2019-12-28  11192.15088\n",
       "362 2019-12-29  12299.47787\n",
       "363 2019-12-30   8440.30569\n",
       "364 2019-12-31  10798.25474\n",
       "\n",
       "[365 rows x 2 columns]"
      ]
     },
     "execution_count": 442,
     "metadata": {},
     "output_type": "execute_result"
    }
   ],
   "source": [
    "sales = df.groupby('거래날짜')['총금액'].sum().reset_index()\n",
    "sales"
   ]
  },
  {
   "cell_type": "code",
   "execution_count": 443,
   "metadata": {},
   "outputs": [
    {
     "data": {
      "text/html": [
       "<div>\n",
       "<style scoped>\n",
       "    .dataframe tbody tr th:only-of-type {\n",
       "        vertical-align: middle;\n",
       "    }\n",
       "\n",
       "    .dataframe tbody tr th {\n",
       "        vertical-align: top;\n",
       "    }\n",
       "\n",
       "    .dataframe thead th {\n",
       "        text-align: right;\n",
       "    }\n",
       "</style>\n",
       "<table border=\"1\" class=\"dataframe\">\n",
       "  <thead>\n",
       "    <tr style=\"text-align: right;\">\n",
       "      <th></th>\n",
       "      <th>거래날짜</th>\n",
       "      <th>총마케팅비용</th>\n",
       "      <th>총금액</th>\n",
       "      <th>ratio</th>\n",
       "    </tr>\n",
       "  </thead>\n",
       "  <tbody>\n",
       "    <tr>\n",
       "      <th>150</th>\n",
       "      <td>2019-05-31</td>\n",
       "      <td>1510.30</td>\n",
       "      <td>25596.54440</td>\n",
       "      <td>16.947987</td>\n",
       "    </tr>\n",
       "    <tr>\n",
       "      <th>29</th>\n",
       "      <td>2019-01-30</td>\n",
       "      <td>1681.86</td>\n",
       "      <td>22468.06098</td>\n",
       "      <td>13.359055</td>\n",
       "    </tr>\n",
       "    <tr>\n",
       "      <th>94</th>\n",
       "      <td>2019-04-05</td>\n",
       "      <td>4842.68</td>\n",
       "      <td>59951.48052</td>\n",
       "      <td>12.379815</td>\n",
       "    </tr>\n",
       "    <tr>\n",
       "      <th>151</th>\n",
       "      <td>2019-06-01</td>\n",
       "      <td>820.25</td>\n",
       "      <td>10140.35572</td>\n",
       "      <td>12.362518</td>\n",
       "    </tr>\n",
       "    <tr>\n",
       "      <th>31</th>\n",
       "      <td>2019-02-01</td>\n",
       "      <td>1392.67</td>\n",
       "      <td>17027.52846</td>\n",
       "      <td>12.226535</td>\n",
       "    </tr>\n",
       "    <tr>\n",
       "      <th>26</th>\n",
       "      <td>2019-01-27</td>\n",
       "      <td>1687.86</td>\n",
       "      <td>20095.25379</td>\n",
       "      <td>11.905759</td>\n",
       "    </tr>\n",
       "    <tr>\n",
       "      <th>23</th>\n",
       "      <td>2019-01-24</td>\n",
       "      <td>1560.02</td>\n",
       "      <td>17620.19628</td>\n",
       "      <td>11.294853</td>\n",
       "    </tr>\n",
       "    <tr>\n",
       "      <th>213</th>\n",
       "      <td>2019-08-02</td>\n",
       "      <td>3655.96</td>\n",
       "      <td>40533.19244</td>\n",
       "      <td>11.086881</td>\n",
       "    </tr>\n",
       "    <tr>\n",
       "      <th>149</th>\n",
       "      <td>2019-05-30</td>\n",
       "      <td>1762.38</td>\n",
       "      <td>18826.97940</td>\n",
       "      <td>10.682701</td>\n",
       "    </tr>\n",
       "    <tr>\n",
       "      <th>30</th>\n",
       "      <td>2019-01-31</td>\n",
       "      <td>2080.14</td>\n",
       "      <td>22123.26392</td>\n",
       "      <td>10.635469</td>\n",
       "    </tr>\n",
       "  </tbody>\n",
       "</table>\n",
       "</div>"
      ],
      "text/plain": [
       "          거래날짜   총마케팅비용          총금액      ratio\n",
       "150 2019-05-31  1510.30  25596.54440  16.947987\n",
       "29  2019-01-30  1681.86  22468.06098  13.359055\n",
       "94  2019-04-05  4842.68  59951.48052  12.379815\n",
       "151 2019-06-01   820.25  10140.35572  12.362518\n",
       "31  2019-02-01  1392.67  17027.52846  12.226535\n",
       "26  2019-01-27  1687.86  20095.25379  11.905759\n",
       "23  2019-01-24  1560.02  17620.19628  11.294853\n",
       "213 2019-08-02  3655.96  40533.19244  11.086881\n",
       "149 2019-05-30  1762.38  18826.97940  10.682701\n",
       "30  2019-01-31  2080.14  22123.26392  10.635469"
      ]
     },
     "execution_count": 443,
     "metadata": {},
     "output_type": "execute_result"
    }
   ],
   "source": [
    "roas1 = pd.merge(marketing, sales, how='left', on='거래날짜')\n",
    "roas1['ratio'] = roas1['총금액'] / roas1['총마케팅비용']\n",
    "roas1.sort_values('ratio', ascending=False).head(10)"
   ]
  },
  {
   "cell_type": "code",
   "execution_count": 444,
   "metadata": {},
   "outputs": [
    {
     "data": {
      "text/html": [
       "<div>\n",
       "<style scoped>\n",
       "    .dataframe tbody tr th:only-of-type {\n",
       "        vertical-align: middle;\n",
       "    }\n",
       "\n",
       "    .dataframe tbody tr th {\n",
       "        vertical-align: top;\n",
       "    }\n",
       "\n",
       "    .dataframe thead th {\n",
       "        text-align: right;\n",
       "    }\n",
       "</style>\n",
       "<table border=\"1\" class=\"dataframe\">\n",
       "  <thead>\n",
       "    <tr style=\"text-align: right;\">\n",
       "      <th></th>\n",
       "      <th>거래날짜</th>\n",
       "      <th>총마케팅비용</th>\n",
       "      <th>총마케팅비용(7일ma)</th>\n",
       "      <th>총금액</th>\n",
       "      <th>ratio</th>\n",
       "    </tr>\n",
       "  </thead>\n",
       "  <tbody>\n",
       "    <tr>\n",
       "      <th>94</th>\n",
       "      <td>2019-04-05</td>\n",
       "      <td>4842.68</td>\n",
       "      <td>4289.407143</td>\n",
       "      <td>59951.48052</td>\n",
       "      <td>13.976636</td>\n",
       "    </tr>\n",
       "    <tr>\n",
       "      <th>29</th>\n",
       "      <td>2019-01-30</td>\n",
       "      <td>1681.86</td>\n",
       "      <td>1788.870000</td>\n",
       "      <td>22468.06098</td>\n",
       "      <td>12.559918</td>\n",
       "    </tr>\n",
       "    <tr>\n",
       "      <th>213</th>\n",
       "      <td>2019-08-02</td>\n",
       "      <td>3655.96</td>\n",
       "      <td>3241.630000</td>\n",
       "      <td>40533.19244</td>\n",
       "      <td>12.503954</td>\n",
       "    </tr>\n",
       "    <tr>\n",
       "      <th>30</th>\n",
       "      <td>2019-01-31</td>\n",
       "      <td>2080.14</td>\n",
       "      <td>1863.172857</td>\n",
       "      <td>22123.26392</td>\n",
       "      <td>11.873973</td>\n",
       "    </tr>\n",
       "    <tr>\n",
       "      <th>150</th>\n",
       "      <td>2019-05-31</td>\n",
       "      <td>1510.30</td>\n",
       "      <td>2243.272857</td>\n",
       "      <td>25596.54440</td>\n",
       "      <td>11.410357</td>\n",
       "    </tr>\n",
       "    <tr>\n",
       "      <th>330</th>\n",
       "      <td>2019-11-27</td>\n",
       "      <td>5819.58</td>\n",
       "      <td>5001.338571</td>\n",
       "      <td>56662.02888</td>\n",
       "      <td>11.329373</td>\n",
       "    </tr>\n",
       "    <tr>\n",
       "      <th>198</th>\n",
       "      <td>2019-07-18</td>\n",
       "      <td>4408.61</td>\n",
       "      <td>3999.448571</td>\n",
       "      <td>42947.02071</td>\n",
       "      <td>10.738236</td>\n",
       "    </tr>\n",
       "    <tr>\n",
       "      <th>107</th>\n",
       "      <td>2019-04-18</td>\n",
       "      <td>5476.58</td>\n",
       "      <td>5430.738571</td>\n",
       "      <td>54471.40715</td>\n",
       "      <td>10.030202</td>\n",
       "    </tr>\n",
       "    <tr>\n",
       "      <th>31</th>\n",
       "      <td>2019-02-01</td>\n",
       "      <td>1392.67</td>\n",
       "      <td>1758.561429</td>\n",
       "      <td>17027.52846</td>\n",
       "      <td>9.682646</td>\n",
       "    </tr>\n",
       "    <tr>\n",
       "      <th>26</th>\n",
       "      <td>2019-01-27</td>\n",
       "      <td>1687.86</td>\n",
       "      <td>2193.951429</td>\n",
       "      <td>20095.25379</td>\n",
       "      <td>9.159389</td>\n",
       "    </tr>\n",
       "  </tbody>\n",
       "</table>\n",
       "</div>"
      ],
      "text/plain": [
       "          거래날짜   총마케팅비용  총마케팅비용(7일ma)          총금액      ratio\n",
       "94  2019-04-05  4842.68   4289.407143  59951.48052  13.976636\n",
       "29  2019-01-30  1681.86   1788.870000  22468.06098  12.559918\n",
       "213 2019-08-02  3655.96   3241.630000  40533.19244  12.503954\n",
       "30  2019-01-31  2080.14   1863.172857  22123.26392  11.873973\n",
       "150 2019-05-31  1510.30   2243.272857  25596.54440  11.410357\n",
       "330 2019-11-27  5819.58   5001.338571  56662.02888  11.329373\n",
       "198 2019-07-18  4408.61   3999.448571  42947.02071  10.738236\n",
       "107 2019-04-18  5476.58   5430.738571  54471.40715  10.030202\n",
       "31  2019-02-01  1392.67   1758.561429  17027.52846   9.682646\n",
       "26  2019-01-27  1687.86   2193.951429  20095.25379   9.159389"
      ]
     },
     "execution_count": 444,
     "metadata": {},
     "output_type": "execute_result"
    }
   ],
   "source": [
    "roas2 = pd.merge(marketing2, sales, how='left', on='거래날짜')\n",
    "roas2['ratio'] = roas2['총금액'] / roas2['총마케팅비용(7일ma)']\n",
    "roas2.sort_values('ratio', ascending=False).head(10)\n"
   ]
  },
  {
   "cell_type": "code",
   "execution_count": 445,
   "metadata": {},
   "outputs": [
    {
     "data": {
      "text/plain": [
       "<AxesSubplot:xlabel='거래날짜', ylabel='ratio'>"
      ]
     },
     "execution_count": 445,
     "metadata": {},
     "output_type": "execute_result"
    },
    {
     "data": {
      "image/png": "[encoded data removed]",
      "text/plain": [
       "<Figure size 2000x500 with 1 Axes>"
      ]
     },
     "metadata": {},
     "output_type": "display_data"
    }
   ],
   "source": [
    "plt.figure(figsize=(20, 5))\n",
    "sns.lineplot(data=roas1, x='거래날짜', y='ratio', color='red')\n",
    "sns.lineplot(data=roas2, x='거래날짜', y='ratio', color='blue')\n",
    "\n",
    "\n",
    "# ratio(빨강) = 총비용 / 총마케팅비용\n",
    "# ratio(파랑) = 총비용 / 총마케팅비용(이동평균)\n",
    "\n",
    "# 총마케팅비용(이동평균) - 원본의 고점을 낮게 만드는 효과\n",
    "\n",
    "# 마케팅의 특성상 직관적으로 볼때는 이동평균을 하는게 맞아보이는데\n"
   ]
  },
  {
   "cell_type": "code",
   "execution_count": 446,
   "metadata": {},
   "outputs": [
    {
     "data": {
      "text/html": [
       "<div>\n",
       "<style scoped>\n",
       "    .dataframe tbody tr th:only-of-type {\n",
       "        vertical-align: middle;\n",
       "    }\n",
       "\n",
       "    .dataframe tbody tr th {\n",
       "        vertical-align: top;\n",
       "    }\n",
       "\n",
       "    .dataframe thead th {\n",
       "        text-align: right;\n",
       "    }\n",
       "</style>\n",
       "<table border=\"1\" class=\"dataframe\">\n",
       "  <thead>\n",
       "    <tr style=\"text-align: right;\">\n",
       "      <th></th>\n",
       "      <th>거래날짜</th>\n",
       "      <th>총마케팅비용</th>\n",
       "      <th>총금액</th>\n",
       "      <th>ratio</th>\n",
       "      <th>week</th>\n",
       "    </tr>\n",
       "  </thead>\n",
       "  <tbody>\n",
       "    <tr>\n",
       "      <th>0</th>\n",
       "      <td>2019-01-01</td>\n",
       "      <td>6924.50</td>\n",
       "      <td>9039.42048</td>\n",
       "      <td>1.305426</td>\n",
       "      <td>1</td>\n",
       "    </tr>\n",
       "    <tr>\n",
       "      <th>1</th>\n",
       "      <td>2019-01-02</td>\n",
       "      <td>7980.36</td>\n",
       "      <td>15269.39436</td>\n",
       "      <td>1.913372</td>\n",
       "      <td>1</td>\n",
       "    </tr>\n",
       "    <tr>\n",
       "      <th>2</th>\n",
       "      <td>2019-01-03</td>\n",
       "      <td>6076.38</td>\n",
       "      <td>29145.65155</td>\n",
       "      <td>4.796549</td>\n",
       "      <td>1</td>\n",
       "    </tr>\n",
       "    <tr>\n",
       "      <th>3</th>\n",
       "      <td>2019-01-04</td>\n",
       "      <td>7428.55</td>\n",
       "      <td>19500.23722</td>\n",
       "      <td>2.625040</td>\n",
       "      <td>1</td>\n",
       "    </tr>\n",
       "    <tr>\n",
       "      <th>4</th>\n",
       "      <td>2019-01-05</td>\n",
       "      <td>8555.30</td>\n",
       "      <td>21260.25480</td>\n",
       "      <td>2.485039</td>\n",
       "      <td>1</td>\n",
       "    </tr>\n",
       "    <tr>\n",
       "      <th>...</th>\n",
       "      <td>...</td>\n",
       "      <td>...</td>\n",
       "      <td>...</td>\n",
       "      <td>...</td>\n",
       "      <td>...</td>\n",
       "    </tr>\n",
       "    <tr>\n",
       "      <th>360</th>\n",
       "      <td>2019-12-27</td>\n",
       "      <td>7396.87</td>\n",
       "      <td>14371.81383</td>\n",
       "      <td>1.942959</td>\n",
       "      <td>52</td>\n",
       "    </tr>\n",
       "    <tr>\n",
       "      <th>361</th>\n",
       "      <td>2019-12-28</td>\n",
       "      <td>7246.84</td>\n",
       "      <td>11192.15088</td>\n",
       "      <td>1.544418</td>\n",
       "      <td>52</td>\n",
       "    </tr>\n",
       "    <tr>\n",
       "      <th>362</th>\n",
       "      <td>2019-12-29</td>\n",
       "      <td>6546.58</td>\n",
       "      <td>12299.47787</td>\n",
       "      <td>1.878764</td>\n",
       "      <td>52</td>\n",
       "    </tr>\n",
       "    <tr>\n",
       "      <th>363</th>\n",
       "      <td>2019-12-30</td>\n",
       "      <td>4674.31</td>\n",
       "      <td>8440.30569</td>\n",
       "      <td>1.805679</td>\n",
       "      <td>52</td>\n",
       "    </tr>\n",
       "    <tr>\n",
       "      <th>364</th>\n",
       "      <td>2019-12-31</td>\n",
       "      <td>6058.75</td>\n",
       "      <td>10798.25474</td>\n",
       "      <td>1.782258</td>\n",
       "      <td>53</td>\n",
       "    </tr>\n",
       "  </tbody>\n",
       "</table>\n",
       "<p>365 rows × 5 columns</p>\n",
       "</div>"
      ],
      "text/plain": [
       "          거래날짜   총마케팅비용          총금액     ratio  week\n",
       "0   2019-01-01  6924.50   9039.42048  1.305426     1\n",
       "1   2019-01-02  7980.36  15269.39436  1.913372     1\n",
       "2   2019-01-03  6076.38  29145.65155  4.796549     1\n",
       "3   2019-01-04  7428.55  19500.23722  2.625040     1\n",
       "4   2019-01-05  8555.30  21260.25480  2.485039     1\n",
       "..         ...      ...          ...       ...   ...\n",
       "360 2019-12-27  7396.87  14371.81383  1.942959    52\n",
       "361 2019-12-28  7246.84  11192.15088  1.544418    52\n",
       "362 2019-12-29  6546.58  12299.47787  1.878764    52\n",
       "363 2019-12-30  4674.31   8440.30569  1.805679    52\n",
       "364 2019-12-31  6058.75  10798.25474  1.782258    53\n",
       "\n",
       "[365 rows x 5 columns]"
      ]
     },
     "execution_count": 446,
     "metadata": {},
     "output_type": "execute_result"
    }
   ],
   "source": [
    "week = []\n",
    "cut = 0\n",
    "\n",
    "\n",
    "for i in range(1, 54):\n",
    "    for j in range(7):\n",
    "        week.append(i)\n",
    "        if len(week) == len(roas1):\n",
    "            break\n",
    "    if len(week) == len(roas1):\n",
    "        break\n",
    "\n",
    "roas1['week'] = np.array(week).reshape(len(roas1), -1)\n",
    "roas1"
   ]
  },
  {
   "cell_type": "code",
   "execution_count": 447,
   "metadata": {},
   "outputs": [
    {
     "data": {
      "text/html": [
       "<div>\n",
       "<style scoped>\n",
       "    .dataframe tbody tr th:only-of-type {\n",
       "        vertical-align: middle;\n",
       "    }\n",
       "\n",
       "    .dataframe tbody tr th {\n",
       "        vertical-align: top;\n",
       "    }\n",
       "\n",
       "    .dataframe thead th {\n",
       "        text-align: right;\n",
       "    }\n",
       "</style>\n",
       "<table border=\"1\" class=\"dataframe\">\n",
       "  <thead>\n",
       "    <tr style=\"text-align: right;\">\n",
       "      <th></th>\n",
       "      <th>week</th>\n",
       "      <th>총마케팅비용</th>\n",
       "      <th>총금액</th>\n",
       "      <th>ratio_week</th>\n",
       "    </tr>\n",
       "  </thead>\n",
       "  <tbody>\n",
       "    <tr>\n",
       "      <th>21</th>\n",
       "      <td>22</td>\n",
       "      <td>10081.86</td>\n",
       "      <td>82926.69858</td>\n",
       "      <td>8.225337</td>\n",
       "    </tr>\n",
       "    <tr>\n",
       "      <th>3</th>\n",
       "      <td>4</td>\n",
       "      <td>13710.42</td>\n",
       "      <td>110229.52235</td>\n",
       "      <td>8.039836</td>\n",
       "    </tr>\n",
       "    <tr>\n",
       "      <th>4</th>\n",
       "      <td>5</td>\n",
       "      <td>13870.26</td>\n",
       "      <td>105175.22745</td>\n",
       "      <td>7.582787</td>\n",
       "    </tr>\n",
       "    <tr>\n",
       "      <th>30</th>\n",
       "      <td>31</td>\n",
       "      <td>21959.29</td>\n",
       "      <td>138445.68213</td>\n",
       "      <td>6.304652</td>\n",
       "    </tr>\n",
       "    <tr>\n",
       "      <th>28</th>\n",
       "      <td>29</td>\n",
       "      <td>28218.83</td>\n",
       "      <td>125851.33122</td>\n",
       "      <td>4.459835</td>\n",
       "    </tr>\n",
       "    <tr>\n",
       "      <th>20</th>\n",
       "      <td>21</td>\n",
       "      <td>18022.79</td>\n",
       "      <td>76393.20878</td>\n",
       "      <td>4.238700</td>\n",
       "    </tr>\n",
       "    <tr>\n",
       "      <th>46</th>\n",
       "      <td>47</td>\n",
       "      <td>33355.78</td>\n",
       "      <td>139378.94608</td>\n",
       "      <td>4.178555</td>\n",
       "    </tr>\n",
       "    <tr>\n",
       "      <th>47</th>\n",
       "      <td>48</td>\n",
       "      <td>37320.98</td>\n",
       "      <td>155668.44771</td>\n",
       "      <td>4.171071</td>\n",
       "    </tr>\n",
       "    <tr>\n",
       "      <th>11</th>\n",
       "      <td>12</td>\n",
       "      <td>26066.40</td>\n",
       "      <td>108427.85349</td>\n",
       "      <td>4.159679</td>\n",
       "    </tr>\n",
       "    <tr>\n",
       "      <th>13</th>\n",
       "      <td>14</td>\n",
       "      <td>31863.55</td>\n",
       "      <td>132045.72795</td>\n",
       "      <td>4.144100</td>\n",
       "    </tr>\n",
       "  </tbody>\n",
       "</table>\n",
       "</div>"
      ],
      "text/plain": [
       "    week    총마케팅비용           총금액  ratio_week\n",
       "21    22  10081.86   82926.69858    8.225337\n",
       "3      4  13710.42  110229.52235    8.039836\n",
       "4      5  13870.26  105175.22745    7.582787\n",
       "30    31  21959.29  138445.68213    6.304652\n",
       "28    29  28218.83  125851.33122    4.459835\n",
       "20    21  18022.79   76393.20878    4.238700\n",
       "46    47  33355.78  139378.94608    4.178555\n",
       "47    48  37320.98  155668.44771    4.171071\n",
       "11    12  26066.40  108427.85349    4.159679\n",
       "13    14  31863.55  132045.72795    4.144100"
      ]
     },
     "execution_count": 447,
     "metadata": {},
     "output_type": "execute_result"
    }
   ],
   "source": [
    "week_core = pd.DataFrame(roas1.groupby('week')[['총마케팅비용', '총금액']].sum()).reset_index()\n",
    "week_core['ratio_week'] = week_core['총금액'] / week_core['총마케팅비용']\n",
    "week_core.sort_values('ratio_week', ascending=False).head(10)"
   ]
  },
  {
   "cell_type": "code",
   "execution_count": 448,
   "metadata": {},
   "outputs": [
    {
     "data": {
      "text/plain": [
       "<AxesSubplot:xlabel='week', ylabel='총마케팅비용'>"
      ]
     },
     "execution_count": 448,
     "metadata": {},
     "output_type": "execute_result"
    },
    {
     "data": {
      "image/png": "[encoded data removed]",
      "text/plain": [
       "<Figure size 2000x300 with 1 Axes>"
      ]
     },
     "metadata": {},
     "output_type": "display_data"
    }
   ],
   "source": [
    "plt.figure(figsize=(20, 3))\n",
    "sns.lineplot(data=week_core, x='week', y='총마케팅비용', color='red')\n",
    "sns.lineplot(data=week_core, x='week', y='총금액', color='blue')\n"
   ]
  },
  {
   "cell_type": "code",
   "execution_count": 449,
   "metadata": {},
   "outputs": [
    {
     "data": {
      "text/plain": [
       "<AxesSubplot:xlabel='week', ylabel='ratio_week'>"
      ]
     },
     "execution_count": 449,
     "metadata": {},
     "output_type": "execute_result"
    },
    {
     "data": {
      "image/png": "[encoded data removed]",
      "text/plain": [
       "<Figure size 2000x300 with 1 Axes>"
      ]
     },
     "metadata": {},
     "output_type": "display_data"
    }
   ],
   "source": [
    "plt.figure(figsize=(20, 3))\n",
    "sns.lineplot(data=week_core, x='week', y='ratio_week', color='black')"
   ]
  },
  {
   "cell_type": "code",
   "execution_count": null,
   "metadata": {},
   "outputs": [],
   "source": []
  }
 ],
 "metadata": {
  "kernelspec": {
   "display_name": "base",
   "language": "python",
   "name": "python3"
  },
  "language_info": {
   "codemirror_mode": {
    "name": "ipython",
    "version": 3
   },
   "file_extension": ".py",
   "mimetype": "text/x-python",
   "name": "python",
   "nbconvert_exporter": "python",
   "pygments_lexer": "ipython3",
   "version": "3.9.13"
  }
 },
 "nbformat": 4,
 "nbformat_minor": 2
}
